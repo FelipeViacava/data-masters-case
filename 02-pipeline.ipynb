{
 "cells": [
  {
   "attachments": {},
   "cell_type": "markdown",
   "metadata": {},
   "source": [
    "# Data Masters: Case"
   ]
  },
  {
   "attachments": {},
   "cell_type": "markdown",
   "metadata": {},
   "source": [
    "## Bibliotecas"
   ]
  },
  {
   "cell_type": "code",
   "execution_count": 1,
   "metadata": {},
   "outputs": [],
   "source": [
    "# --- Data Exploration --- #\n",
    "import numpy as np\n",
    "import pandas as pd\n",
    "\n",
    "# --- Classification model --- #\n",
    "from sklearn.ensemble import GradientBoostingClassifier\n",
    "\n",
    "# --- Model Evaluation --- #\n",
    "from sklearn.metrics import auc, confusion_matrix, roc_auc_score\n",
    "\n",
    "# --- Pìpeline Building --- #\n",
    "from sklearn.pipeline import Pipeline\n",
    "from sklearn.model_selection import train_test_split, GridSearchCV\n",
    "\n",
    "# --- Custom Libs --- #\n",
    "from resources.utils import ColumnDropper"
   ]
  },
  {
   "attachments": {},
   "cell_type": "markdown",
   "metadata": {},
   "source": [
    "## Pipeline de Classificação"
   ]
  },
  {
   "cell_type": "code",
   "execution_count": 2,
   "metadata": {},
   "outputs": [],
   "source": [
    "with open(\"resources/drop_cols.txt\") as f:\n",
    "    drop_cols = [line.rstrip(\"\\n\") for line in f]"
   ]
  },
  {
   "cell_type": "code",
   "execution_count": 3,
   "metadata": {},
   "outputs": [],
   "source": [
    "main_pipeline = Pipeline(\n",
    "    steps=[\n",
    "        (\"ColDrop\", ColumnDropper(drop_cols)),\n",
    "        (\"clf\", GradientBoostingClassifier())\n",
    "    ]\n",
    ")"
   ]
  },
  {
   "cell_type": "code",
   "execution_count": 4,
   "metadata": {},
   "outputs": [],
   "source": [
    "param_grid = {\n",
    "    \"clf__n_estimators\": [80, 100, 200],\n",
    "    \"clf__learning_rate\": [.01, .1, 1],\n",
    "    \"clf__max_depth\": [4, 6, 8]\n",
    "}"
   ]
  },
  {
   "cell_type": "code",
   "execution_count": 5,
   "metadata": {},
   "outputs": [],
   "source": [
    "gscv = GridSearchCV(\n",
    "    main_pipeline,\n",
    "    param_grid=param_grid,\n",
    "    scoring=\"roc_auc\",\n",
    "    n_jobs=14,\n",
    "    error_score=\"raise\"\n",
    ")"
   ]
  },
  {
   "cell_type": "markdown",
   "metadata": {},
   "source": [
    "## Fit"
   ]
  },
  {
   "cell_type": "code",
   "execution_count": 11,
   "metadata": {},
   "outputs": [],
   "source": [
    "df = pd.read_csv(\"data/train.csv\")\n",
    "X = df.set_index(\"ID\")\n",
    "y = df.set_index(\"ID\")[\"TARGET\"]\n",
    "\n",
    "X_train, X_test, y_train, y_test = train_test_split(\n",
    "    X,\n",
    "    y,\n",
    "    test_size=0.2,\n",
    "    random_state=42,\n",
    "    stratify=y\n",
    ")\n",
    "\n",
    "X_train = X_train.drop(\"TARGET\", axis=1)\n",
    "X_test = X_test.drop(\"TARGET\", axis=1)"
   ]
  },
  {
   "cell_type": "code",
   "execution_count": 7,
   "metadata": {},
   "outputs": [],
   "source": [
    "gscv = gscv.fit(X_train,y_train)"
   ]
  },
  {
   "cell_type": "code",
   "execution_count": 114,
   "metadata": {},
   "outputs": [
    {
     "data": {
      "text/plain": [
       "0.8682277997866147"
      ]
     },
     "execution_count": 114,
     "metadata": {},
     "output_type": "execute_result"
    }
   ],
   "source": [
    "y_pred = gscv.predict_proba(X_train)[:,1]\n",
    "roc_auc_score(y_train, y_pred)"
   ]
  },
  {
   "cell_type": "markdown",
   "metadata": {},
   "source": [
    "## Selecionando o melhor corte"
   ]
  },
  {
   "cell_type": "code",
   "execution_count": 125,
   "metadata": {},
   "outputs": [],
   "source": [
    "def predict_probability(X, model):\n",
    "    return model.predict_proba(X)[:,1]\n",
    "\n",
    "def make_result_df(y,y_pred):\n",
    "    df = y.reset_index()\n",
    "    df[\"prob\"] = y_pred\n",
    "    df[\"pred\"] = y_pred\n",
    "    return df\n",
    "\n",
    "def predict_class(y, c):\n",
    "    y[\"pred\"] = y[\"prob\"].apply(lambda x: 1 if x >= c else 0)\n",
    "    return y\n",
    "\n",
    "def evaluate(df, c):\n",
    "    tn, fp, fn, tp = confusion_matrix(\n",
    "        df[\"TARGET\"],\n",
    "        predict_class(df, c)[\"pred\"],\n",
    "    ).ravel()\n",
    "    return (tn*0+fp*(-10)+fn*0+tp*(100-10))/len(df)"
   ]
  },
  {
   "cell_type": "code",
   "execution_count": 126,
   "metadata": {},
   "outputs": [],
   "source": [
    "def select_threshold(X, y):\n",
    "    y_pred = predict_probability(X, gscv)\n",
    "    df = make_result_df(y,y_pred)\n",
    "\n",
    "    thresh_scores = [[i/100, 0] for i in range(101)]\n",
    "\n",
    "    for i in range(len(thresh_scores)):\n",
    "        c = thresh_scores[i][0]\n",
    "        thresh_scores[i][1] = evaluate(df,c)\n",
    "\n",
    "    thresh_scores = pd.DataFrame(thresh_scores,columns=[\"Threshold\", \"Profit\"])\n",
    "\n",
    "    best_threshold = thresh_scores.iloc[\n",
    "        thresh_scores.Profit.idxmax()\n",
    "    ].Threshold\n",
    "\n",
    "    return best_threshold"
   ]
  },
  {
   "cell_type": "code",
   "execution_count": 127,
   "metadata": {},
   "outputs": [],
   "source": [
    "c = select_threshold(X_train, y_train)"
   ]
  },
  {
   "cell_type": "markdown",
   "metadata": {},
   "source": [
    "## Avaliação no conjunto de testes"
   ]
  },
  {
   "cell_type": "code",
   "execution_count": 131,
   "metadata": {},
   "outputs": [
    {
     "name": "stdout",
     "output_type": "stream",
     "text": [
      "Lucro esperado: R$1.03 por cliente da base\n"
     ]
    }
   ],
   "source": [
    "y_pred = predict_probability(X_test, gscv)\n",
    "pred_df = make_result_df(y_test, y_pred)\n",
    "profit = evaluate(pred_df,c)\n",
    "print(f\"Lucro esperado: R${profit:.2f} por cliente da base\")"
   ]
  }
 ],
 "metadata": {
  "kernelspec": {
   "display_name": "dmc-venv",
   "language": "python",
   "name": "python3"
  },
  "language_info": {
   "codemirror_mode": {
    "name": "ipython",
    "version": 3
   },
   "file_extension": ".py",
   "mimetype": "text/x-python",
   "name": "python",
   "nbconvert_exporter": "python",
   "pygments_lexer": "ipython3",
   "version": "3.10.6"
  },
  "orig_nbformat": 4
 },
 "nbformat": 4,
 "nbformat_minor": 2
}
