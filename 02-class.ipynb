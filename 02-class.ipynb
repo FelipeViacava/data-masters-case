{
 "cells": [
  {
   "attachments": {},
   "cell_type": "markdown",
   "metadata": {},
   "source": [
    "# Data Masters: Case"
   ]
  },
  {
   "cell_type": "code",
   "execution_count": 1,
   "metadata": {},
   "outputs": [],
   "source": [
    "FIT_MODELS = True"
   ]
  },
  {
   "attachments": {},
   "cell_type": "markdown",
   "metadata": {},
   "source": [
    "## Bibliotecas"
   ]
  },
  {
   "cell_type": "code",
   "execution_count": 2,
   "metadata": {},
   "outputs": [],
   "source": [
    "# --- Data Exploration and Viz --- #\n",
    "import pandas as pd\n",
    "import numpy as np\n",
    "import matplotlib.pyplot as plt\n",
    "import seaborn as sns\n",
    "\n",
    "# --- Classification models --- #\n",
    "from sklearn.ensemble import \\\n",
    "    GradientBoostingClassifier, \\\n",
    "    RandomForestClassifier\n",
    "from sklearn.tree import DecisionTreeClassifier\n",
    "\n",
    "# --- Pipeline Building --- #\n",
    "from sklearn.pipeline import Pipeline\n",
    "from sklearn.compose import ColumnTransformer\n",
    "\n",
    "# --- Model Evaluation --- #\n",
    "#from resources.custommetrics import profit\n",
    "from sklearn.metrics import \\\n",
    "    roc_auc_score, \\\n",
    "    recall_score, \\\n",
    "    precision_score, \\\n",
    "    f1_score, \\\n",
    "    confusion_matrix\n",
    "\n",
    "# --- Tuning --- #\n",
    "from sklearn.model_selection import \\\n",
    "    GridSearchCV, \\\n",
    "    train_test_split\n",
    "\n",
    "# --- Preprocessing --- #\n",
    "from sklearn.preprocessing import \\\n",
    "    StandardScaler, \\\n",
    "    OrdinalEncoder, \\\n",
    "    FunctionTransformer\n",
    "\n",
    "from sklearn.impute import SimpleImputer\n",
    " \n",
    "from resources.customtransformers import \\\n",
    "    DropConstantColumns, \\\n",
    "    DropDuplicateColumns, \\\n",
    "    AddNoneCount, \\\n",
    "    AddNonZeroCount\n",
    "from resources.fit_refit import FitValidateRefit as FVR\n",
    "\n",
    "# --- Cluster Analysis --- #\n",
    "#from sklearn.decomposition import PCA\n",
    "#from sklearn.cluster import KMeans"
   ]
  },
  {
   "cell_type": "markdown",
   "metadata": {},
   "source": [
    "## Leitura dos dados"
   ]
  },
  {
   "cell_type": "code",
   "execution_count": 3,
   "metadata": {},
   "outputs": [],
   "source": [
    "train = pd.read_csv(\"data/train.csv\")\n",
    "test = pd.read_csv(\"data/test.csv\")"
   ]
  },
  {
   "attachments": {},
   "cell_type": "markdown",
   "metadata": {},
   "source": [
    "## Definição dos pipelines de pré-processamento"
   ]
  },
  {
   "cell_type": "markdown",
   "metadata": {},
   "source": [
    "### Pipeline 1: Mantendo dados originais\n",
    "\n",
    "Este pipeline serve como um \"one size fits all\" para os passos seguintes. Como as missing features do conjunto de dados já foram preenchidas artificalmente, tratá-las para modelos de árvore não necessariamente trará melhora na performance, uma vez que o preenchimento é padronizado por prefixo e estes modelos lidam bem com relações não-lineares entre variáveis. Assim, a partir deste pipeline, podemos iniciar os testes de diferentes modelos baseados em árvores."
   ]
  },
  {
   "cell_type": "code",
   "execution_count": 4,
   "metadata": {},
   "outputs": [],
   "source": [
    "prep_01 = Pipeline(\n",
    "    steps=[\n",
    "        (\"dcc\", DropConstantColumns()),\n",
    "        (\"ddc\", DropDuplicateColumns()),\n",
    "        (\n",
    "            \"anc_delta\",\n",
    "            AddNoneCount(\n",
    "                prefix=\"delta\",\n",
    "                fake_value=9999999999\n",
    "            )\n",
    "        ),\n",
    "        (\"anzc_saldo\", AddNonZeroCount(prefix=\"saldo\")),\n",
    "        (\"anzc_imp\", AddNonZeroCount(prefix=\"imp\")),\n",
    "        (\"anzc_delta\", AddNonZeroCount(prefix=\"delta\")),\n",
    "        (\"anzc_ind\", AddNonZeroCount(prefix=\"ind\")),\n",
    "        (\n",
    "            \"col_specific\",\n",
    "            ColumnTransformer(\n",
    "                [\n",
    "                    (\n",
    "                        \"ord_encoders\",\n",
    "                        OrdinalEncoder(\n",
    "                            handle_unknown=\"use_encoded_value\",\n",
    "                            unknown_value=-1,\n",
    "                            encoded_missing_value=-1,\n",
    "                            min_frequency=40\n",
    "                        ),\n",
    "                        [\"var36\",\"var21\"]                    \n",
    "                    )\n",
    "                ],\n",
    "                remainder=\"passthrough\"\n",
    "            )\n",
    "        )\n",
    "    ]\n",
    ")"
   ]
  },
  {
   "cell_type": "markdown",
   "metadata": {},
   "source": [
    "### Pipeline 2: Imputando NaN com mediana\n",
    "\n",
    "No caso das variáveis delta, temos dados extremamente esparsos. Assim, optou-se por imputar os valores faltantes com a mediana, uma vez que a média seria aftetada por outliers. Essencialmente, estamos preenchendo estes valores com 0 e colocando-os no mesmo \"grupo\" que a maioria das observações."
   ]
  },
  {
   "cell_type": "code",
   "execution_count": 5,
   "metadata": {},
   "outputs": [],
   "source": [
    "prep_02 = Pipeline(\n",
    "    steps=[\n",
    "        (\"dcc\", DropConstantColumns()),\n",
    "        (\"ddc\", DropDuplicateColumns()),\n",
    "        (\n",
    "            \"anc_delta\",\n",
    "            AddNoneCount(\n",
    "                prefix=\"delta\",\n",
    "                fake_value=9999999999\n",
    "            )\n",
    "        ),\n",
    "        (\n",
    "            \"impute_nan_delta\",\n",
    "            SimpleImputer(\n",
    "                missing_values=9999999999,\n",
    "                strategy=\"median\"\n",
    "            )\n",
    "        ),\n",
    "        (\n",
    "            \"impute_nan_var3_transformer\",\n",
    "            ColumnTransformer(\n",
    "                (\n",
    "                    \"impute_nan_var3\",\n",
    "                    SimpleImputer(\n",
    "                        missing_values=-999999,\n",
    "                        strategy=\"constant\",\n",
    "                        fill_value=None\n",
    "                    ),\n",
    "                    \"var3\"\n",
    "                ),\n",
    "                remainder=\"passthrough\"\n",
    "            )\n",
    "        ),\n",
    "        (\"anzc_saldo\", AddNonZeroCount(prefix=\"saldo\")),\n",
    "        (\"anzc_imp\", AddNonZeroCount(prefix=\"imp\")),\n",
    "        (\"anzc_delta\", AddNonZeroCount(prefix=\"delta\")),\n",
    "        (\"anzc_ind\", AddNonZeroCount(prefix=\"ind\")),\n",
    "        (\n",
    "            \"col_specific\",\n",
    "            ColumnTransformer(\n",
    "                [\n",
    "                    (\n",
    "                        \"ord_encoders\",\n",
    "                        OrdinalEncoder(\n",
    "                            handle_unknown=\"use_encoded_value\",\n",
    "                            unknown_value=-1,\n",
    "                            encoded_missing_value=-1,\n",
    "                            min_frequency=40\n",
    "                        ),\n",
    "                        [\"var36\",\"var21\"]                \n",
    "                    )\n",
    "                ],\n",
    "                remainder=\"passthrough\"\n",
    "            )\n",
    "        )\n",
    "    ]\n",
    ")"
   ]
  },
  {
   "cell_type": "markdown",
   "metadata": {},
   "source": [
    "## Definição da métrica de avaliação\n",
    "\n",
    "Os modelos (com excessão de uma árvore simples inicial) passaram por validação cruzada para hiperparametrização buscando maximizar a AUC -- métrica que, de modo geral, indica quão bem o modelo consegue separar as classes da variável \"TARGET\" ao comparar as estimativas com os valores reais com diferentes cortes de classificação. O corte de classificação, por sua vez, foi ajustado sobre o modelo campeão (com a maior AUC) com base na métrica sugerida pelo enunciado deste trabalho:\n",
    "\n",
    "$Profit = 90tp -10fp$"
   ]
  },
  {
   "cell_type": "code",
   "execution_count": 6,
   "metadata": {},
   "outputs": [],
   "source": [
    "def profit(y_true, y_pred):\n",
    "    tp = np.sum((y_pred == 1) & (y_true == 1))\n",
    "    fp = np.sum((y_pred == 1) & (y_true == 0))\n",
    "    n = len(y_true)\n",
    "    return (-10 * fp + 90 * tp) / n"
   ]
  },
  {
   "cell_type": "markdown",
   "metadata": {},
   "source": [
    "## Avaliação dos modelos"
   ]
  },
  {
   "cell_type": "code",
   "execution_count": 7,
   "metadata": {},
   "outputs": [],
   "source": [
    "scores = {}"
   ]
  },
  {
   "cell_type": "markdown",
   "metadata": {},
   "source": [
    "### Modelo base: árvore de classificação\n",
    "\n",
    "Aqui definimos um ponto de partida para os modelos de classificação. Foi escolhida a árvore de classificação pois esta servirá como base dos dois outros algorítmos testados (Random Forest e Gradient Boosting). Este modelo não passa por gridsearch e seu resultado é considerado o mínimo a ser batido pelos outros modelos. "
   ]
  },
  {
   "cell_type": "code",
   "execution_count": 8,
   "metadata": {},
   "outputs": [
    {
     "data": {
      "text/html": [
       "<style>#sk-container-id-1 {color: black;}#sk-container-id-1 pre{padding: 0;}#sk-container-id-1 div.sk-toggleable {background-color: white;}#sk-container-id-1 label.sk-toggleable__label {cursor: pointer;display: block;width: 100%;margin-bottom: 0;padding: 0.3em;box-sizing: border-box;text-align: center;}#sk-container-id-1 label.sk-toggleable__label-arrow:before {content: \"▸\";float: left;margin-right: 0.25em;color: #696969;}#sk-container-id-1 label.sk-toggleable__label-arrow:hover:before {color: black;}#sk-container-id-1 div.sk-estimator:hover label.sk-toggleable__label-arrow:before {color: black;}#sk-container-id-1 div.sk-toggleable__content {max-height: 0;max-width: 0;overflow: hidden;text-align: left;background-color: #f0f8ff;}#sk-container-id-1 div.sk-toggleable__content pre {margin: 0.2em;color: black;border-radius: 0.25em;background-color: #f0f8ff;}#sk-container-id-1 input.sk-toggleable__control:checked~div.sk-toggleable__content {max-height: 200px;max-width: 100%;overflow: auto;}#sk-container-id-1 input.sk-toggleable__control:checked~label.sk-toggleable__label-arrow:before {content: \"▾\";}#sk-container-id-1 div.sk-estimator input.sk-toggleable__control:checked~label.sk-toggleable__label {background-color: #d4ebff;}#sk-container-id-1 div.sk-label input.sk-toggleable__control:checked~label.sk-toggleable__label {background-color: #d4ebff;}#sk-container-id-1 input.sk-hidden--visually {border: 0;clip: rect(1px 1px 1px 1px);clip: rect(1px, 1px, 1px, 1px);height: 1px;margin: -1px;overflow: hidden;padding: 0;position: absolute;width: 1px;}#sk-container-id-1 div.sk-estimator {font-family: monospace;background-color: #f0f8ff;border: 1px dotted black;border-radius: 0.25em;box-sizing: border-box;margin-bottom: 0.5em;}#sk-container-id-1 div.sk-estimator:hover {background-color: #d4ebff;}#sk-container-id-1 div.sk-parallel-item::after {content: \"\";width: 100%;border-bottom: 1px solid gray;flex-grow: 1;}#sk-container-id-1 div.sk-label:hover label.sk-toggleable__label {background-color: #d4ebff;}#sk-container-id-1 div.sk-serial::before {content: \"\";position: absolute;border-left: 1px solid gray;box-sizing: border-box;top: 0;bottom: 0;left: 50%;z-index: 0;}#sk-container-id-1 div.sk-serial {display: flex;flex-direction: column;align-items: center;background-color: white;padding-right: 0.2em;padding-left: 0.2em;position: relative;}#sk-container-id-1 div.sk-item {position: relative;z-index: 1;}#sk-container-id-1 div.sk-parallel {display: flex;align-items: stretch;justify-content: center;background-color: white;position: relative;}#sk-container-id-1 div.sk-item::before, #sk-container-id-1 div.sk-parallel-item::before {content: \"\";position: absolute;border-left: 1px solid gray;box-sizing: border-box;top: 0;bottom: 0;left: 50%;z-index: -1;}#sk-container-id-1 div.sk-parallel-item {display: flex;flex-direction: column;z-index: 1;position: relative;background-color: white;}#sk-container-id-1 div.sk-parallel-item:first-child::after {align-self: flex-end;width: 50%;}#sk-container-id-1 div.sk-parallel-item:last-child::after {align-self: flex-start;width: 50%;}#sk-container-id-1 div.sk-parallel-item:only-child::after {width: 0;}#sk-container-id-1 div.sk-dashed-wrapped {border: 1px dashed gray;margin: 0 0.4em 0.5em 0.4em;box-sizing: border-box;padding-bottom: 0.4em;background-color: white;}#sk-container-id-1 div.sk-label label {font-family: monospace;font-weight: bold;display: inline-block;line-height: 1.2em;}#sk-container-id-1 div.sk-label-container {text-align: center;}#sk-container-id-1 div.sk-container {/* jupyter's `normalize.less` sets `[hidden] { display: none; }` but bootstrap.min.css set `[hidden] { display: none !important; }` so we also need the `!important` here to be able to override the default hidden behavior on the sphinx rendered scikit-learn.org. See: https://github.com/scikit-learn/scikit-learn/issues/21755 */display: inline-block !important;position: relative;}#sk-container-id-1 div.sk-text-repr-fallback {display: none;}</style><div id=\"sk-container-id-1\" class=\"sk-top-container\"><div class=\"sk-text-repr-fallback\"><pre>Pipeline(steps=[(&#x27;preprocessing&#x27;,\n",
       "                 Pipeline(steps=[(&#x27;dcc&#x27;, DropConstantColumns()),\n",
       "                                 (&#x27;ddc&#x27;, DropDuplicateColumns()),\n",
       "                                 (&#x27;anc_delta&#x27;,\n",
       "                                  AddNoneCount(fake_value=9999999999,\n",
       "                                               prefix=&#x27;delta&#x27;)),\n",
       "                                 (&#x27;anzc_saldo&#x27;,\n",
       "                                  AddNonZeroCount(prefix=&#x27;saldo&#x27;)),\n",
       "                                 (&#x27;anzc_imp&#x27;, AddNonZeroCount(prefix=&#x27;imp&#x27;)),\n",
       "                                 (&#x27;anzc_delta&#x27;,\n",
       "                                  AddNonZeroCount(prefix=&#x27;delta&#x27;)),\n",
       "                                 (&#x27;anzc_ind&#x27;, AddNonZeroCount(prefix=&#x27;ind&#x27;)),\n",
       "                                 (&#x27;col_specific&#x27;,\n",
       "                                  ColumnTransformer(remainder=&#x27;passthrough&#x27;,\n",
       "                                                    transformers=[(&#x27;ord_encoders&#x27;,\n",
       "                                                                   OrdinalEncoder(encoded_missing_value=-1,\n",
       "                                                                                  handle_unknown=&#x27;use_encoded_value&#x27;,\n",
       "                                                                                  min_frequency=40,\n",
       "                                                                                  unknown_value=-1),\n",
       "                                                                   [&#x27;var36&#x27;,\n",
       "                                                                    &#x27;var21&#x27;])]))])),\n",
       "                (&#x27;clf&#x27;, DecisionTreeClassifier())])</pre><b>In a Jupyter environment, please rerun this cell to show the HTML representation or trust the notebook. <br />On GitHub, the HTML representation is unable to render, please try loading this page with nbviewer.org.</b></div><div class=\"sk-container\" hidden><div class=\"sk-item sk-dashed-wrapped\"><div class=\"sk-label-container\"><div class=\"sk-label sk-toggleable\"><input class=\"sk-toggleable__control sk-hidden--visually\" id=\"sk-estimator-id-1\" type=\"checkbox\" ><label for=\"sk-estimator-id-1\" class=\"sk-toggleable__label sk-toggleable__label-arrow\">Pipeline</label><div class=\"sk-toggleable__content\"><pre>Pipeline(steps=[(&#x27;preprocessing&#x27;,\n",
       "                 Pipeline(steps=[(&#x27;dcc&#x27;, DropConstantColumns()),\n",
       "                                 (&#x27;ddc&#x27;, DropDuplicateColumns()),\n",
       "                                 (&#x27;anc_delta&#x27;,\n",
       "                                  AddNoneCount(fake_value=9999999999,\n",
       "                                               prefix=&#x27;delta&#x27;)),\n",
       "                                 (&#x27;anzc_saldo&#x27;,\n",
       "                                  AddNonZeroCount(prefix=&#x27;saldo&#x27;)),\n",
       "                                 (&#x27;anzc_imp&#x27;, AddNonZeroCount(prefix=&#x27;imp&#x27;)),\n",
       "                                 (&#x27;anzc_delta&#x27;,\n",
       "                                  AddNonZeroCount(prefix=&#x27;delta&#x27;)),\n",
       "                                 (&#x27;anzc_ind&#x27;, AddNonZeroCount(prefix=&#x27;ind&#x27;)),\n",
       "                                 (&#x27;col_specific&#x27;,\n",
       "                                  ColumnTransformer(remainder=&#x27;passthrough&#x27;,\n",
       "                                                    transformers=[(&#x27;ord_encoders&#x27;,\n",
       "                                                                   OrdinalEncoder(encoded_missing_value=-1,\n",
       "                                                                                  handle_unknown=&#x27;use_encoded_value&#x27;,\n",
       "                                                                                  min_frequency=40,\n",
       "                                                                                  unknown_value=-1),\n",
       "                                                                   [&#x27;var36&#x27;,\n",
       "                                                                    &#x27;var21&#x27;])]))])),\n",
       "                (&#x27;clf&#x27;, DecisionTreeClassifier())])</pre></div></div></div><div class=\"sk-serial\"><div class=\"sk-item\"><div class=\"sk-label-container\"><div class=\"sk-label sk-toggleable\"><input class=\"sk-toggleable__control sk-hidden--visually\" id=\"sk-estimator-id-2\" type=\"checkbox\" ><label for=\"sk-estimator-id-2\" class=\"sk-toggleable__label sk-toggleable__label-arrow\">preprocessing: Pipeline</label><div class=\"sk-toggleable__content\"><pre>Pipeline(steps=[(&#x27;dcc&#x27;, DropConstantColumns()), (&#x27;ddc&#x27;, DropDuplicateColumns()),\n",
       "                (&#x27;anc_delta&#x27;,\n",
       "                 AddNoneCount(fake_value=9999999999, prefix=&#x27;delta&#x27;)),\n",
       "                (&#x27;anzc_saldo&#x27;, AddNonZeroCount(prefix=&#x27;saldo&#x27;)),\n",
       "                (&#x27;anzc_imp&#x27;, AddNonZeroCount(prefix=&#x27;imp&#x27;)),\n",
       "                (&#x27;anzc_delta&#x27;, AddNonZeroCount(prefix=&#x27;delta&#x27;)),\n",
       "                (&#x27;anzc_ind&#x27;, AddNonZeroCount(prefix=&#x27;ind&#x27;)),\n",
       "                (&#x27;col_specific&#x27;,\n",
       "                 ColumnTransformer(remainder=&#x27;passthrough&#x27;,\n",
       "                                   transformers=[(&#x27;ord_encoders&#x27;,\n",
       "                                                  OrdinalEncoder(encoded_missing_value=-1,\n",
       "                                                                 handle_unknown=&#x27;use_encoded_value&#x27;,\n",
       "                                                                 min_frequency=40,\n",
       "                                                                 unknown_value=-1),\n",
       "                                                  [&#x27;var36&#x27;, &#x27;var21&#x27;])]))])</pre></div></div></div><div class=\"sk-serial\"><div class=\"sk-item\"><div class=\"sk-estimator sk-toggleable\"><input class=\"sk-toggleable__control sk-hidden--visually\" id=\"sk-estimator-id-3\" type=\"checkbox\" ><label for=\"sk-estimator-id-3\" class=\"sk-toggleable__label sk-toggleable__label-arrow\">DropConstantColumns</label><div class=\"sk-toggleable__content\"><pre>DropConstantColumns()</pre></div></div></div><div class=\"sk-item\"><div class=\"sk-estimator sk-toggleable\"><input class=\"sk-toggleable__control sk-hidden--visually\" id=\"sk-estimator-id-4\" type=\"checkbox\" ><label for=\"sk-estimator-id-4\" class=\"sk-toggleable__label sk-toggleable__label-arrow\">DropDuplicateColumns</label><div class=\"sk-toggleable__content\"><pre>DropDuplicateColumns()</pre></div></div></div><div class=\"sk-item\"><div class=\"sk-estimator sk-toggleable\"><input class=\"sk-toggleable__control sk-hidden--visually\" id=\"sk-estimator-id-5\" type=\"checkbox\" ><label for=\"sk-estimator-id-5\" class=\"sk-toggleable__label sk-toggleable__label-arrow\">AddNoneCount</label><div class=\"sk-toggleable__content\"><pre>AddNoneCount(fake_value=9999999999, prefix=&#x27;delta&#x27;)</pre></div></div></div><div class=\"sk-item\"><div class=\"sk-estimator sk-toggleable\"><input class=\"sk-toggleable__control sk-hidden--visually\" id=\"sk-estimator-id-6\" type=\"checkbox\" ><label for=\"sk-estimator-id-6\" class=\"sk-toggleable__label sk-toggleable__label-arrow\">AddNonZeroCount</label><div class=\"sk-toggleable__content\"><pre>AddNonZeroCount(prefix=&#x27;saldo&#x27;)</pre></div></div></div><div class=\"sk-item\"><div class=\"sk-estimator sk-toggleable\"><input class=\"sk-toggleable__control sk-hidden--visually\" id=\"sk-estimator-id-7\" type=\"checkbox\" ><label for=\"sk-estimator-id-7\" class=\"sk-toggleable__label sk-toggleable__label-arrow\">AddNonZeroCount</label><div class=\"sk-toggleable__content\"><pre>AddNonZeroCount(prefix=&#x27;imp&#x27;)</pre></div></div></div><div class=\"sk-item\"><div class=\"sk-estimator sk-toggleable\"><input class=\"sk-toggleable__control sk-hidden--visually\" id=\"sk-estimator-id-8\" type=\"checkbox\" ><label for=\"sk-estimator-id-8\" class=\"sk-toggleable__label sk-toggleable__label-arrow\">AddNonZeroCount</label><div class=\"sk-toggleable__content\"><pre>AddNonZeroCount(prefix=&#x27;delta&#x27;)</pre></div></div></div><div class=\"sk-item\"><div class=\"sk-estimator sk-toggleable\"><input class=\"sk-toggleable__control sk-hidden--visually\" id=\"sk-estimator-id-9\" type=\"checkbox\" ><label for=\"sk-estimator-id-9\" class=\"sk-toggleable__label sk-toggleable__label-arrow\">AddNonZeroCount</label><div class=\"sk-toggleable__content\"><pre>AddNonZeroCount(prefix=&#x27;ind&#x27;)</pre></div></div></div><div class=\"sk-item sk-dashed-wrapped\"><div class=\"sk-label-container\"><div class=\"sk-label sk-toggleable\"><input class=\"sk-toggleable__control sk-hidden--visually\" id=\"sk-estimator-id-10\" type=\"checkbox\" ><label for=\"sk-estimator-id-10\" class=\"sk-toggleable__label sk-toggleable__label-arrow\">col_specific: ColumnTransformer</label><div class=\"sk-toggleable__content\"><pre>ColumnTransformer(remainder=&#x27;passthrough&#x27;,\n",
       "                  transformers=[(&#x27;ord_encoders&#x27;,\n",
       "                                 OrdinalEncoder(encoded_missing_value=-1,\n",
       "                                                handle_unknown=&#x27;use_encoded_value&#x27;,\n",
       "                                                min_frequency=40,\n",
       "                                                unknown_value=-1),\n",
       "                                 [&#x27;var36&#x27;, &#x27;var21&#x27;])])</pre></div></div></div><div class=\"sk-parallel\"><div class=\"sk-parallel-item\"><div class=\"sk-item\"><div class=\"sk-label-container\"><div class=\"sk-label sk-toggleable\"><input class=\"sk-toggleable__control sk-hidden--visually\" id=\"sk-estimator-id-11\" type=\"checkbox\" ><label for=\"sk-estimator-id-11\" class=\"sk-toggleable__label sk-toggleable__label-arrow\">ord_encoders</label><div class=\"sk-toggleable__content\"><pre>[&#x27;var36&#x27;, &#x27;var21&#x27;]</pre></div></div></div><div class=\"sk-serial\"><div class=\"sk-item\"><div class=\"sk-estimator sk-toggleable\"><input class=\"sk-toggleable__control sk-hidden--visually\" id=\"sk-estimator-id-12\" type=\"checkbox\" ><label for=\"sk-estimator-id-12\" class=\"sk-toggleable__label sk-toggleable__label-arrow\">OrdinalEncoder</label><div class=\"sk-toggleable__content\"><pre>OrdinalEncoder(encoded_missing_value=-1, handle_unknown=&#x27;use_encoded_value&#x27;,\n",
       "               min_frequency=40, unknown_value=-1)</pre></div></div></div></div></div></div><div class=\"sk-parallel-item\"><div class=\"sk-item\"><div class=\"sk-label-container\"><div class=\"sk-label sk-toggleable\"><input class=\"sk-toggleable__control sk-hidden--visually\" id=\"sk-estimator-id-13\" type=\"checkbox\" ><label for=\"sk-estimator-id-13\" class=\"sk-toggleable__label sk-toggleable__label-arrow\">remainder</label><div class=\"sk-toggleable__content\"><pre></pre></div></div></div><div class=\"sk-serial\"><div class=\"sk-item\"><div class=\"sk-estimator sk-toggleable\"><input class=\"sk-toggleable__control sk-hidden--visually\" id=\"sk-estimator-id-14\" type=\"checkbox\" ><label for=\"sk-estimator-id-14\" class=\"sk-toggleable__label sk-toggleable__label-arrow\">passthrough</label><div class=\"sk-toggleable__content\"><pre>passthrough</pre></div></div></div></div></div></div></div></div></div></div><div class=\"sk-item\"><div class=\"sk-estimator sk-toggleable\"><input class=\"sk-toggleable__control sk-hidden--visually\" id=\"sk-estimator-id-15\" type=\"checkbox\" ><label for=\"sk-estimator-id-15\" class=\"sk-toggleable__label sk-toggleable__label-arrow\">DecisionTreeClassifier</label><div class=\"sk-toggleable__content\"><pre>DecisionTreeClassifier()</pre></div></div></div></div></div></div></div>"
      ],
      "text/plain": [
       "Pipeline(steps=[('preprocessing',\n",
       "                 Pipeline(steps=[('dcc', DropConstantColumns()),\n",
       "                                 ('ddc', DropDuplicateColumns()),\n",
       "                                 ('anc_delta',\n",
       "                                  AddNoneCount(fake_value=9999999999,\n",
       "                                               prefix='delta')),\n",
       "                                 ('anzc_saldo',\n",
       "                                  AddNonZeroCount(prefix='saldo')),\n",
       "                                 ('anzc_imp', AddNonZeroCount(prefix='imp')),\n",
       "                                 ('anzc_delta',\n",
       "                                  AddNonZeroCount(prefix='delta')),\n",
       "                                 ('anzc_ind', AddNonZeroCount(prefix='ind')),\n",
       "                                 ('col_specific',\n",
       "                                  ColumnTransformer(remainder='passthrough',\n",
       "                                                    transformers=[('ord_encoders',\n",
       "                                                                   OrdinalEncoder(encoded_missing_value=-1,\n",
       "                                                                                  handle_unknown='use_encoded_value',\n",
       "                                                                                  min_frequency=40,\n",
       "                                                                                  unknown_value=-1),\n",
       "                                                                   ['var36',\n",
       "                                                                    'var21'])]))])),\n",
       "                ('clf', DecisionTreeClassifier())])"
      ]
     },
     "execution_count": 8,
     "metadata": {},
     "output_type": "execute_result"
    }
   ],
   "source": [
    "dtc = Pipeline(\n",
    "    steps=[\n",
    "        (\"preprocessing\", prep_01),\n",
    "        (\"clf\", DecisionTreeClassifier())\n",
    "    ]\n",
    ")\n",
    "\n",
    "dtc"
   ]
  },
  {
   "cell_type": "code",
   "execution_count": 9,
   "metadata": {},
   "outputs": [],
   "source": [
    "simple_tree_model = FVR(\n",
    "    train.drop(\"ID\", axis=1),\n",
    "    dtc,\n",
    "    \"TARGET\",\n",
    "    test_size=.25,\n",
    "    use_grid_search=False\n",
    ")"
   ]
  },
  {
   "cell_type": "code",
   "execution_count": 10,
   "metadata": {},
   "outputs": [],
   "source": [
    "if FIT_MODELS == True:\n",
    "    simple_tree_model.fit()\n",
    "    simple_tree_model.save_model(\"models/simple_tree_model.pkl\")"
   ]
  },
  {
   "cell_type": "code",
   "execution_count": 11,
   "metadata": {},
   "outputs": [],
   "source": [
    "simple_tree_model = simple_tree_model\n",
    "\n",
    "y_pred = simple_tree_model \\\n",
    "    .predict(\n",
    "        test.drop([\"ID\",\"TARGET\"],\n",
    "        axis=1)\n",
    "    )\n",
    "\n",
    "scores[\"dtc\"] = profit(y_pred, test[\"TARGET\"])"
   ]
  },
  {
   "cell_type": "markdown",
   "metadata": {},
   "source": [
    "### Modelo desafiante 1: Floresta Aleatória"
   ]
  },
  {
   "cell_type": "code",
   "execution_count": 12,
   "metadata": {},
   "outputs": [
    {
     "data": {
      "text/html": [
       "<style>#sk-container-id-2 {color: black;}#sk-container-id-2 pre{padding: 0;}#sk-container-id-2 div.sk-toggleable {background-color: white;}#sk-container-id-2 label.sk-toggleable__label {cursor: pointer;display: block;width: 100%;margin-bottom: 0;padding: 0.3em;box-sizing: border-box;text-align: center;}#sk-container-id-2 label.sk-toggleable__label-arrow:before {content: \"▸\";float: left;margin-right: 0.25em;color: #696969;}#sk-container-id-2 label.sk-toggleable__label-arrow:hover:before {color: black;}#sk-container-id-2 div.sk-estimator:hover label.sk-toggleable__label-arrow:before {color: black;}#sk-container-id-2 div.sk-toggleable__content {max-height: 0;max-width: 0;overflow: hidden;text-align: left;background-color: #f0f8ff;}#sk-container-id-2 div.sk-toggleable__content pre {margin: 0.2em;color: black;border-radius: 0.25em;background-color: #f0f8ff;}#sk-container-id-2 input.sk-toggleable__control:checked~div.sk-toggleable__content {max-height: 200px;max-width: 100%;overflow: auto;}#sk-container-id-2 input.sk-toggleable__control:checked~label.sk-toggleable__label-arrow:before {content: \"▾\";}#sk-container-id-2 div.sk-estimator input.sk-toggleable__control:checked~label.sk-toggleable__label {background-color: #d4ebff;}#sk-container-id-2 div.sk-label input.sk-toggleable__control:checked~label.sk-toggleable__label {background-color: #d4ebff;}#sk-container-id-2 input.sk-hidden--visually {border: 0;clip: rect(1px 1px 1px 1px);clip: rect(1px, 1px, 1px, 1px);height: 1px;margin: -1px;overflow: hidden;padding: 0;position: absolute;width: 1px;}#sk-container-id-2 div.sk-estimator {font-family: monospace;background-color: #f0f8ff;border: 1px dotted black;border-radius: 0.25em;box-sizing: border-box;margin-bottom: 0.5em;}#sk-container-id-2 div.sk-estimator:hover {background-color: #d4ebff;}#sk-container-id-2 div.sk-parallel-item::after {content: \"\";width: 100%;border-bottom: 1px solid gray;flex-grow: 1;}#sk-container-id-2 div.sk-label:hover label.sk-toggleable__label {background-color: #d4ebff;}#sk-container-id-2 div.sk-serial::before {content: \"\";position: absolute;border-left: 1px solid gray;box-sizing: border-box;top: 0;bottom: 0;left: 50%;z-index: 0;}#sk-container-id-2 div.sk-serial {display: flex;flex-direction: column;align-items: center;background-color: white;padding-right: 0.2em;padding-left: 0.2em;position: relative;}#sk-container-id-2 div.sk-item {position: relative;z-index: 1;}#sk-container-id-2 div.sk-parallel {display: flex;align-items: stretch;justify-content: center;background-color: white;position: relative;}#sk-container-id-2 div.sk-item::before, #sk-container-id-2 div.sk-parallel-item::before {content: \"\";position: absolute;border-left: 1px solid gray;box-sizing: border-box;top: 0;bottom: 0;left: 50%;z-index: -1;}#sk-container-id-2 div.sk-parallel-item {display: flex;flex-direction: column;z-index: 1;position: relative;background-color: white;}#sk-container-id-2 div.sk-parallel-item:first-child::after {align-self: flex-end;width: 50%;}#sk-container-id-2 div.sk-parallel-item:last-child::after {align-self: flex-start;width: 50%;}#sk-container-id-2 div.sk-parallel-item:only-child::after {width: 0;}#sk-container-id-2 div.sk-dashed-wrapped {border: 1px dashed gray;margin: 0 0.4em 0.5em 0.4em;box-sizing: border-box;padding-bottom: 0.4em;background-color: white;}#sk-container-id-2 div.sk-label label {font-family: monospace;font-weight: bold;display: inline-block;line-height: 1.2em;}#sk-container-id-2 div.sk-label-container {text-align: center;}#sk-container-id-2 div.sk-container {/* jupyter's `normalize.less` sets `[hidden] { display: none; }` but bootstrap.min.css set `[hidden] { display: none !important; }` so we also need the `!important` here to be able to override the default hidden behavior on the sphinx rendered scikit-learn.org. See: https://github.com/scikit-learn/scikit-learn/issues/21755 */display: inline-block !important;position: relative;}#sk-container-id-2 div.sk-text-repr-fallback {display: none;}</style><div id=\"sk-container-id-2\" class=\"sk-top-container\"><div class=\"sk-text-repr-fallback\"><pre>Pipeline(steps=[(&#x27;preprocessing&#x27;,\n",
       "                 Pipeline(steps=[(&#x27;dcc&#x27;, DropConstantColumns()),\n",
       "                                 (&#x27;ddc&#x27;, DropDuplicateColumns()),\n",
       "                                 (&#x27;anc_delta&#x27;,\n",
       "                                  AddNoneCount(fake_value=9999999999,\n",
       "                                               prefix=&#x27;delta&#x27;)),\n",
       "                                 (&#x27;anzc_saldo&#x27;,\n",
       "                                  AddNonZeroCount(prefix=&#x27;saldo&#x27;)),\n",
       "                                 (&#x27;anzc_imp&#x27;, AddNonZeroCount(prefix=&#x27;imp&#x27;)),\n",
       "                                 (&#x27;anzc_delta&#x27;,\n",
       "                                  AddNonZeroCount(prefix=&#x27;delta&#x27;)),\n",
       "                                 (&#x27;anzc_ind&#x27;, AddNonZeroCount(prefix=&#x27;ind&#x27;)),\n",
       "                                 (&#x27;col_specific&#x27;,\n",
       "                                  ColumnTransformer(remainder=&#x27;passthrough&#x27;,\n",
       "                                                    transformers=[(&#x27;ord_encoders&#x27;,\n",
       "                                                                   OrdinalEncoder(encoded_missing_value=-1,\n",
       "                                                                                  handle_unknown=&#x27;use_encoded_value&#x27;,\n",
       "                                                                                  min_frequency=40,\n",
       "                                                                                  unknown_value=-1),\n",
       "                                                                   [&#x27;var36&#x27;,\n",
       "                                                                    &#x27;var21&#x27;])]))])),\n",
       "                (&#x27;clf&#x27;, RandomForestClassifier())])</pre><b>In a Jupyter environment, please rerun this cell to show the HTML representation or trust the notebook. <br />On GitHub, the HTML representation is unable to render, please try loading this page with nbviewer.org.</b></div><div class=\"sk-container\" hidden><div class=\"sk-item sk-dashed-wrapped\"><div class=\"sk-label-container\"><div class=\"sk-label sk-toggleable\"><input class=\"sk-toggleable__control sk-hidden--visually\" id=\"sk-estimator-id-16\" type=\"checkbox\" ><label for=\"sk-estimator-id-16\" class=\"sk-toggleable__label sk-toggleable__label-arrow\">Pipeline</label><div class=\"sk-toggleable__content\"><pre>Pipeline(steps=[(&#x27;preprocessing&#x27;,\n",
       "                 Pipeline(steps=[(&#x27;dcc&#x27;, DropConstantColumns()),\n",
       "                                 (&#x27;ddc&#x27;, DropDuplicateColumns()),\n",
       "                                 (&#x27;anc_delta&#x27;,\n",
       "                                  AddNoneCount(fake_value=9999999999,\n",
       "                                               prefix=&#x27;delta&#x27;)),\n",
       "                                 (&#x27;anzc_saldo&#x27;,\n",
       "                                  AddNonZeroCount(prefix=&#x27;saldo&#x27;)),\n",
       "                                 (&#x27;anzc_imp&#x27;, AddNonZeroCount(prefix=&#x27;imp&#x27;)),\n",
       "                                 (&#x27;anzc_delta&#x27;,\n",
       "                                  AddNonZeroCount(prefix=&#x27;delta&#x27;)),\n",
       "                                 (&#x27;anzc_ind&#x27;, AddNonZeroCount(prefix=&#x27;ind&#x27;)),\n",
       "                                 (&#x27;col_specific&#x27;,\n",
       "                                  ColumnTransformer(remainder=&#x27;passthrough&#x27;,\n",
       "                                                    transformers=[(&#x27;ord_encoders&#x27;,\n",
       "                                                                   OrdinalEncoder(encoded_missing_value=-1,\n",
       "                                                                                  handle_unknown=&#x27;use_encoded_value&#x27;,\n",
       "                                                                                  min_frequency=40,\n",
       "                                                                                  unknown_value=-1),\n",
       "                                                                   [&#x27;var36&#x27;,\n",
       "                                                                    &#x27;var21&#x27;])]))])),\n",
       "                (&#x27;clf&#x27;, RandomForestClassifier())])</pre></div></div></div><div class=\"sk-serial\"><div class=\"sk-item\"><div class=\"sk-label-container\"><div class=\"sk-label sk-toggleable\"><input class=\"sk-toggleable__control sk-hidden--visually\" id=\"sk-estimator-id-17\" type=\"checkbox\" ><label for=\"sk-estimator-id-17\" class=\"sk-toggleable__label sk-toggleable__label-arrow\">preprocessing: Pipeline</label><div class=\"sk-toggleable__content\"><pre>Pipeline(steps=[(&#x27;dcc&#x27;, DropConstantColumns()), (&#x27;ddc&#x27;, DropDuplicateColumns()),\n",
       "                (&#x27;anc_delta&#x27;,\n",
       "                 AddNoneCount(fake_value=9999999999, prefix=&#x27;delta&#x27;)),\n",
       "                (&#x27;anzc_saldo&#x27;, AddNonZeroCount(prefix=&#x27;saldo&#x27;)),\n",
       "                (&#x27;anzc_imp&#x27;, AddNonZeroCount(prefix=&#x27;imp&#x27;)),\n",
       "                (&#x27;anzc_delta&#x27;, AddNonZeroCount(prefix=&#x27;delta&#x27;)),\n",
       "                (&#x27;anzc_ind&#x27;, AddNonZeroCount(prefix=&#x27;ind&#x27;)),\n",
       "                (&#x27;col_specific&#x27;,\n",
       "                 ColumnTransformer(remainder=&#x27;passthrough&#x27;,\n",
       "                                   transformers=[(&#x27;ord_encoders&#x27;,\n",
       "                                                  OrdinalEncoder(encoded_missing_value=-1,\n",
       "                                                                 handle_unknown=&#x27;use_encoded_value&#x27;,\n",
       "                                                                 min_frequency=40,\n",
       "                                                                 unknown_value=-1),\n",
       "                                                  [&#x27;var36&#x27;, &#x27;var21&#x27;])]))])</pre></div></div></div><div class=\"sk-serial\"><div class=\"sk-item\"><div class=\"sk-estimator sk-toggleable\"><input class=\"sk-toggleable__control sk-hidden--visually\" id=\"sk-estimator-id-18\" type=\"checkbox\" ><label for=\"sk-estimator-id-18\" class=\"sk-toggleable__label sk-toggleable__label-arrow\">DropConstantColumns</label><div class=\"sk-toggleable__content\"><pre>DropConstantColumns()</pre></div></div></div><div class=\"sk-item\"><div class=\"sk-estimator sk-toggleable\"><input class=\"sk-toggleable__control sk-hidden--visually\" id=\"sk-estimator-id-19\" type=\"checkbox\" ><label for=\"sk-estimator-id-19\" class=\"sk-toggleable__label sk-toggleable__label-arrow\">DropDuplicateColumns</label><div class=\"sk-toggleable__content\"><pre>DropDuplicateColumns()</pre></div></div></div><div class=\"sk-item\"><div class=\"sk-estimator sk-toggleable\"><input class=\"sk-toggleable__control sk-hidden--visually\" id=\"sk-estimator-id-20\" type=\"checkbox\" ><label for=\"sk-estimator-id-20\" class=\"sk-toggleable__label sk-toggleable__label-arrow\">AddNoneCount</label><div class=\"sk-toggleable__content\"><pre>AddNoneCount(fake_value=9999999999, prefix=&#x27;delta&#x27;)</pre></div></div></div><div class=\"sk-item\"><div class=\"sk-estimator sk-toggleable\"><input class=\"sk-toggleable__control sk-hidden--visually\" id=\"sk-estimator-id-21\" type=\"checkbox\" ><label for=\"sk-estimator-id-21\" class=\"sk-toggleable__label sk-toggleable__label-arrow\">AddNonZeroCount</label><div class=\"sk-toggleable__content\"><pre>AddNonZeroCount(prefix=&#x27;saldo&#x27;)</pre></div></div></div><div class=\"sk-item\"><div class=\"sk-estimator sk-toggleable\"><input class=\"sk-toggleable__control sk-hidden--visually\" id=\"sk-estimator-id-22\" type=\"checkbox\" ><label for=\"sk-estimator-id-22\" class=\"sk-toggleable__label sk-toggleable__label-arrow\">AddNonZeroCount</label><div class=\"sk-toggleable__content\"><pre>AddNonZeroCount(prefix=&#x27;imp&#x27;)</pre></div></div></div><div class=\"sk-item\"><div class=\"sk-estimator sk-toggleable\"><input class=\"sk-toggleable__control sk-hidden--visually\" id=\"sk-estimator-id-23\" type=\"checkbox\" ><label for=\"sk-estimator-id-23\" class=\"sk-toggleable__label sk-toggleable__label-arrow\">AddNonZeroCount</label><div class=\"sk-toggleable__content\"><pre>AddNonZeroCount(prefix=&#x27;delta&#x27;)</pre></div></div></div><div class=\"sk-item\"><div class=\"sk-estimator sk-toggleable\"><input class=\"sk-toggleable__control sk-hidden--visually\" id=\"sk-estimator-id-24\" type=\"checkbox\" ><label for=\"sk-estimator-id-24\" class=\"sk-toggleable__label sk-toggleable__label-arrow\">AddNonZeroCount</label><div class=\"sk-toggleable__content\"><pre>AddNonZeroCount(prefix=&#x27;ind&#x27;)</pre></div></div></div><div class=\"sk-item sk-dashed-wrapped\"><div class=\"sk-label-container\"><div class=\"sk-label sk-toggleable\"><input class=\"sk-toggleable__control sk-hidden--visually\" id=\"sk-estimator-id-25\" type=\"checkbox\" ><label for=\"sk-estimator-id-25\" class=\"sk-toggleable__label sk-toggleable__label-arrow\">col_specific: ColumnTransformer</label><div class=\"sk-toggleable__content\"><pre>ColumnTransformer(remainder=&#x27;passthrough&#x27;,\n",
       "                  transformers=[(&#x27;ord_encoders&#x27;,\n",
       "                                 OrdinalEncoder(encoded_missing_value=-1,\n",
       "                                                handle_unknown=&#x27;use_encoded_value&#x27;,\n",
       "                                                min_frequency=40,\n",
       "                                                unknown_value=-1),\n",
       "                                 [&#x27;var36&#x27;, &#x27;var21&#x27;])])</pre></div></div></div><div class=\"sk-parallel\"><div class=\"sk-parallel-item\"><div class=\"sk-item\"><div class=\"sk-label-container\"><div class=\"sk-label sk-toggleable\"><input class=\"sk-toggleable__control sk-hidden--visually\" id=\"sk-estimator-id-26\" type=\"checkbox\" ><label for=\"sk-estimator-id-26\" class=\"sk-toggleable__label sk-toggleable__label-arrow\">ord_encoders</label><div class=\"sk-toggleable__content\"><pre>[&#x27;var36&#x27;, &#x27;var21&#x27;]</pre></div></div></div><div class=\"sk-serial\"><div class=\"sk-item\"><div class=\"sk-estimator sk-toggleable\"><input class=\"sk-toggleable__control sk-hidden--visually\" id=\"sk-estimator-id-27\" type=\"checkbox\" ><label for=\"sk-estimator-id-27\" class=\"sk-toggleable__label sk-toggleable__label-arrow\">OrdinalEncoder</label><div class=\"sk-toggleable__content\"><pre>OrdinalEncoder(encoded_missing_value=-1, handle_unknown=&#x27;use_encoded_value&#x27;,\n",
       "               min_frequency=40, unknown_value=-1)</pre></div></div></div></div></div></div><div class=\"sk-parallel-item\"><div class=\"sk-item\"><div class=\"sk-label-container\"><div class=\"sk-label sk-toggleable\"><input class=\"sk-toggleable__control sk-hidden--visually\" id=\"sk-estimator-id-28\" type=\"checkbox\" ><label for=\"sk-estimator-id-28\" class=\"sk-toggleable__label sk-toggleable__label-arrow\">remainder</label><div class=\"sk-toggleable__content\"><pre>[&#x27;Unnamed: 0&#x27;, &#x27;var3&#x27;, &#x27;var15&#x27;, &#x27;imp_ent_var16_ult1&#x27;, &#x27;imp_op_var39_comer_ult1&#x27;, &#x27;imp_op_var39_comer_ult3&#x27;, &#x27;imp_op_var40_comer_ult1&#x27;, &#x27;imp_op_var40_comer_ult3&#x27;, &#x27;imp_op_var40_efect_ult1&#x27;, &#x27;imp_op_var40_efect_ult3&#x27;, &#x27;imp_op_var40_ult1&#x27;, &#x27;imp_op_var41_comer_ult1&#x27;, &#x27;imp_op_var41_comer_ult3&#x27;, &#x27;imp_op_var41_efect_ult1&#x27;, &#x27;imp_op_var41_efect_ult3&#x27;, &#x27;imp_op_var41_ult1&#x27;, &#x27;imp_op_var39_efect_ult1&#x27;, &#x27;imp_op_var39_efect_ult3&#x27;, &#x27;imp_op_var39_ult1&#x27;, &#x27;imp_sal_var16_ult1&#x27;, &#x27;ind_var1_0&#x27;, &#x27;ind_var1&#x27;, &#x27;ind_var5_0&#x27;, &#x27;ind_var5&#x27;, &#x27;ind_var8_0&#x27;, &#x27;ind_var8&#x27;, &#x27;ind_var12_0&#x27;, &#x27;ind_var12&#x27;, &#x27;ind_var13_0&#x27;, &#x27;ind_var13_corto_0&#x27;, &#x27;ind_var13_corto&#x27;, &#x27;ind_var13_largo_0&#x27;, &#x27;ind_var13_largo&#x27;, &#x27;ind_var13&#x27;, &#x27;ind_var14_0&#x27;, &#x27;ind_var14&#x27;, &#x27;ind_var17_0&#x27;, &#x27;ind_var17&#x27;, &#x27;ind_var18&#x27;, &#x27;ind_var19&#x27;, &#x27;ind_var20_0&#x27;, &#x27;ind_var20&#x27;, &#x27;ind_var24_0&#x27;, &#x27;ind_var24&#x27;, &#x27;ind_var25_cte&#x27;, &#x27;ind_var26_cte&#x27;, &#x27;ind_var26&#x27;, &#x27;ind_var25&#x27;, &#x27;ind_var29_0&#x27;, &#x27;ind_var29&#x27;, &#x27;ind_var30_0&#x27;, &#x27;ind_var30&#x27;, &#x27;ind_var31_0&#x27;, &#x27;ind_var31&#x27;, &#x27;ind_var32_cte&#x27;, &#x27;ind_var32&#x27;, &#x27;ind_var33_0&#x27;, &#x27;ind_var33&#x27;, &#x27;ind_var34&#x27;, &#x27;ind_var37_cte&#x27;, &#x27;ind_var37&#x27;, &#x27;ind_var39_0&#x27;, &#x27;ind_var40_0&#x27;, &#x27;ind_var41_0&#x27;, &#x27;ind_var39&#x27;, &#x27;ind_var44_0&#x27;, &#x27;ind_var44&#x27;, &#x27;num_var1_0&#x27;, &#x27;num_var1&#x27;, &#x27;num_var4&#x27;, &#x27;num_var5_0&#x27;, &#x27;num_var5&#x27;, &#x27;num_var8_0&#x27;, &#x27;num_var8&#x27;, &#x27;num_var12_0&#x27;, &#x27;num_var12&#x27;, &#x27;num_var13_0&#x27;, &#x27;num_var13_corto_0&#x27;, &#x27;num_var13_corto&#x27;, &#x27;num_var13_largo_0&#x27;, &#x27;num_var13_largo&#x27;, &#x27;num_var13&#x27;, &#x27;num_var14_0&#x27;, &#x27;num_var14&#x27;, &#x27;num_var17_0&#x27;, &#x27;num_var17&#x27;, &#x27;num_var18&#x27;, &#x27;num_var20_0&#x27;, &#x27;num_var20&#x27;, &#x27;num_var24_0&#x27;, &#x27;num_var24&#x27;, &#x27;num_var26&#x27;, &#x27;num_var25&#x27;, &#x27;num_op_var40_hace2&#x27;, &#x27;num_op_var40_hace3&#x27;, &#x27;num_op_var40_ult1&#x27;, &#x27;num_op_var40_ult3&#x27;, &#x27;num_op_var41_hace2&#x27;, &#x27;num_op_var41_hace3&#x27;, &#x27;num_op_var41_ult1&#x27;, &#x27;num_op_var41_ult3&#x27;, &#x27;num_op_var39_hace2&#x27;, &#x27;num_op_var39_hace3&#x27;, &#x27;num_op_var39_ult1&#x27;, &#x27;num_op_var39_ult3&#x27;, &#x27;num_var29_0&#x27;, &#x27;num_var29&#x27;, &#x27;num_var30_0&#x27;, &#x27;num_var30&#x27;, &#x27;num_var31_0&#x27;, &#x27;num_var31&#x27;, &#x27;num_var32&#x27;, &#x27;num_var33_0&#x27;, &#x27;num_var33&#x27;, &#x27;num_var34&#x27;, &#x27;num_var35&#x27;, &#x27;num_var37_med_ult2&#x27;, &#x27;num_var37&#x27;, &#x27;num_var39_0&#x27;, &#x27;num_var40_0&#x27;, &#x27;num_var41_0&#x27;, &#x27;num_var39&#x27;, &#x27;num_var42_0&#x27;, &#x27;num_var42&#x27;, &#x27;num_var44_0&#x27;, &#x27;num_var44&#x27;, &#x27;saldo_var1&#x27;, &#x27;saldo_var5&#x27;, &#x27;saldo_var8&#x27;, &#x27;saldo_var12&#x27;, &#x27;saldo_var13_corto&#x27;, &#x27;saldo_var13_largo&#x27;, &#x27;saldo_var13&#x27;, &#x27;saldo_var14&#x27;, &#x27;saldo_var17&#x27;, &#x27;saldo_var18&#x27;, &#x27;saldo_var20&#x27;, &#x27;saldo_var24&#x27;, &#x27;saldo_var26&#x27;, &#x27;saldo_var25&#x27;, &#x27;saldo_var29&#x27;, &#x27;saldo_var30&#x27;, &#x27;saldo_var31&#x27;, &#x27;saldo_var32&#x27;, &#x27;saldo_var33&#x27;, &#x27;saldo_var34&#x27;, &#x27;saldo_var37&#x27;, &#x27;saldo_var40&#x27;, &#x27;saldo_var42&#x27;, &#x27;saldo_var44&#x27;, &#x27;delta_imp_amort_var18_1y3&#x27;, &#x27;delta_imp_amort_var34_1y3&#x27;, &#x27;delta_imp_aport_var13_1y3&#x27;, &#x27;delta_imp_aport_var17_1y3&#x27;, &#x27;delta_imp_aport_var33_1y3&#x27;, &#x27;delta_imp_compra_var44_1y3&#x27;, &#x27;delta_imp_reemb_var13_1y3&#x27;, &#x27;delta_imp_reemb_var17_1y3&#x27;, &#x27;delta_imp_trasp_var17_in_1y3&#x27;, &#x27;delta_imp_trasp_var17_out_1y3&#x27;, &#x27;delta_imp_trasp_var33_in_1y3&#x27;, &#x27;delta_imp_trasp_var33_out_1y3&#x27;, &#x27;delta_imp_venta_var44_1y3&#x27;, &#x27;delta_num_aport_var13_1y3&#x27;, &#x27;delta_num_aport_var17_1y3&#x27;, &#x27;delta_num_aport_var33_1y3&#x27;, &#x27;delta_num_compra_var44_1y3&#x27;, &#x27;delta_num_venta_var44_1y3&#x27;, &#x27;imp_amort_var18_ult1&#x27;, &#x27;imp_amort_var34_ult1&#x27;, &#x27;imp_aport_var13_hace3&#x27;, &#x27;imp_aport_var13_ult1&#x27;, &#x27;imp_aport_var17_hace3&#x27;, &#x27;imp_aport_var17_ult1&#x27;, &#x27;imp_aport_var33_hace3&#x27;, &#x27;imp_aport_var33_ult1&#x27;, &#x27;imp_var7_emit_ult1&#x27;, &#x27;imp_var7_recib_ult1&#x27;, &#x27;imp_compra_var44_hace3&#x27;, &#x27;imp_compra_var44_ult1&#x27;, &#x27;imp_reemb_var13_ult1&#x27;, &#x27;imp_reemb_var17_hace3&#x27;, &#x27;imp_reemb_var17_ult1&#x27;, &#x27;imp_var43_emit_ult1&#x27;, &#x27;imp_trans_var37_ult1&#x27;, &#x27;imp_trasp_var17_in_hace3&#x27;, &#x27;imp_trasp_var17_in_ult1&#x27;, &#x27;imp_trasp_var17_out_ult1&#x27;, &#x27;imp_trasp_var33_in_hace3&#x27;, &#x27;imp_trasp_var33_in_ult1&#x27;, &#x27;imp_trasp_var33_out_ult1&#x27;, &#x27;imp_venta_var44_hace3&#x27;, &#x27;imp_venta_var44_ult1&#x27;, &#x27;ind_var7_emit_ult1&#x27;, &#x27;ind_var7_recib_ult1&#x27;, &#x27;ind_var10_ult1&#x27;, &#x27;ind_var10cte_ult1&#x27;, &#x27;ind_var9_cte_ult1&#x27;, &#x27;ind_var9_ult1&#x27;, &#x27;ind_var43_emit_ult1&#x27;, &#x27;ind_var43_recib_ult1&#x27;, &#x27;num_aport_var13_hace3&#x27;, &#x27;num_aport_var13_ult1&#x27;, &#x27;num_aport_var17_hace3&#x27;, &#x27;num_aport_var17_ult1&#x27;, &#x27;num_aport_var33_hace3&#x27;, &#x27;num_aport_var33_ult1&#x27;, &#x27;num_var7_emit_ult1&#x27;, &#x27;num_var7_recib_ult1&#x27;, &#x27;num_compra_var44_hace3&#x27;, &#x27;num_compra_var44_ult1&#x27;, &#x27;num_ent_var16_ult1&#x27;, &#x27;num_var22_hace2&#x27;, &#x27;num_var22_hace3&#x27;, &#x27;num_var22_ult1&#x27;, &#x27;num_var22_ult3&#x27;, &#x27;num_med_var22_ult3&#x27;, &#x27;num_med_var45_ult3&#x27;, &#x27;num_meses_var5_ult3&#x27;, &#x27;num_meses_var8_ult3&#x27;, &#x27;num_meses_var12_ult3&#x27;, &#x27;num_meses_var13_corto_ult3&#x27;, &#x27;num_meses_var13_largo_ult3&#x27;, &#x27;num_meses_var17_ult3&#x27;, &#x27;num_meses_var29_ult3&#x27;, &#x27;num_meses_var33_ult3&#x27;, &#x27;num_meses_var39_vig_ult3&#x27;, &#x27;num_meses_var44_ult3&#x27;, &#x27;num_op_var39_comer_ult1&#x27;, &#x27;num_op_var39_comer_ult3&#x27;, &#x27;num_op_var40_comer_ult1&#x27;, &#x27;num_op_var40_comer_ult3&#x27;, &#x27;num_op_var40_efect_ult1&#x27;, &#x27;num_op_var40_efect_ult3&#x27;, &#x27;num_op_var41_comer_ult1&#x27;, &#x27;num_op_var41_comer_ult3&#x27;, &#x27;num_op_var41_efect_ult1&#x27;, &#x27;num_op_var41_efect_ult3&#x27;, &#x27;num_op_var39_efect_ult1&#x27;, &#x27;num_op_var39_efect_ult3&#x27;, &#x27;num_reemb_var13_ult1&#x27;, &#x27;num_reemb_var17_hace3&#x27;, &#x27;num_reemb_var17_ult1&#x27;, &#x27;num_sal_var16_ult1&#x27;, &#x27;num_var43_emit_ult1&#x27;, &#x27;num_var43_recib_ult1&#x27;, &#x27;num_trasp_var11_ult1&#x27;, &#x27;num_trasp_var17_in_hace3&#x27;, &#x27;num_trasp_var17_in_ult1&#x27;, &#x27;num_trasp_var17_out_ult1&#x27;, &#x27;num_trasp_var33_in_hace3&#x27;, &#x27;num_trasp_var33_in_ult1&#x27;, &#x27;num_trasp_var33_out_ult1&#x27;, &#x27;num_venta_var44_hace3&#x27;, &#x27;num_venta_var44_ult1&#x27;, &#x27;num_var45_hace2&#x27;, &#x27;num_var45_hace3&#x27;, &#x27;num_var45_ult1&#x27;, &#x27;num_var45_ult3&#x27;, &#x27;saldo_medio_var5_hace2&#x27;, &#x27;saldo_medio_var5_hace3&#x27;, &#x27;saldo_medio_var5_ult1&#x27;, &#x27;saldo_medio_var5_ult3&#x27;, &#x27;saldo_medio_var8_hace2&#x27;, &#x27;saldo_medio_var8_hace3&#x27;, &#x27;saldo_medio_var8_ult1&#x27;, &#x27;saldo_medio_var8_ult3&#x27;, &#x27;saldo_medio_var12_hace2&#x27;, &#x27;saldo_medio_var12_hace3&#x27;, &#x27;saldo_medio_var12_ult1&#x27;, &#x27;saldo_medio_var12_ult3&#x27;, &#x27;saldo_medio_var13_corto_hace2&#x27;, &#x27;saldo_medio_var13_corto_hace3&#x27;, &#x27;saldo_medio_var13_corto_ult1&#x27;, &#x27;saldo_medio_var13_corto_ult3&#x27;, &#x27;saldo_medio_var13_largo_hace2&#x27;, &#x27;saldo_medio_var13_largo_hace3&#x27;, &#x27;saldo_medio_var13_largo_ult1&#x27;, &#x27;saldo_medio_var13_largo_ult3&#x27;, &#x27;saldo_medio_var17_hace2&#x27;, &#x27;saldo_medio_var17_hace3&#x27;, &#x27;saldo_medio_var17_ult1&#x27;, &#x27;saldo_medio_var17_ult3&#x27;, &#x27;saldo_medio_var29_hace2&#x27;, &#x27;saldo_medio_var29_hace3&#x27;, &#x27;saldo_medio_var29_ult1&#x27;, &#x27;saldo_medio_var29_ult3&#x27;, &#x27;saldo_medio_var33_hace2&#x27;, &#x27;saldo_medio_var33_hace3&#x27;, &#x27;saldo_medio_var33_ult1&#x27;, &#x27;saldo_medio_var33_ult3&#x27;, &#x27;saldo_medio_var44_hace2&#x27;, &#x27;saldo_medio_var44_hace3&#x27;, &#x27;saldo_medio_var44_ult1&#x27;, &#x27;saldo_medio_var44_ult3&#x27;, &#x27;var38&#x27;, &#x27;none_count_delta&#x27;, &#x27;non_zero_count_saldo&#x27;, &#x27;non_zero_count_imp&#x27;, &#x27;non_zero_count_delta&#x27;, &#x27;non_zero_count_ind&#x27;]</pre></div></div></div><div class=\"sk-serial\"><div class=\"sk-item\"><div class=\"sk-estimator sk-toggleable\"><input class=\"sk-toggleable__control sk-hidden--visually\" id=\"sk-estimator-id-29\" type=\"checkbox\" ><label for=\"sk-estimator-id-29\" class=\"sk-toggleable__label sk-toggleable__label-arrow\">passthrough</label><div class=\"sk-toggleable__content\"><pre>passthrough</pre></div></div></div></div></div></div></div></div></div></div><div class=\"sk-item\"><div class=\"sk-estimator sk-toggleable\"><input class=\"sk-toggleable__control sk-hidden--visually\" id=\"sk-estimator-id-30\" type=\"checkbox\" ><label for=\"sk-estimator-id-30\" class=\"sk-toggleable__label sk-toggleable__label-arrow\">RandomForestClassifier</label><div class=\"sk-toggleable__content\"><pre>RandomForestClassifier()</pre></div></div></div></div></div></div></div>"
      ],
      "text/plain": [
       "Pipeline(steps=[('preprocessing',\n",
       "                 Pipeline(steps=[('dcc', DropConstantColumns()),\n",
       "                                 ('ddc', DropDuplicateColumns()),\n",
       "                                 ('anc_delta',\n",
       "                                  AddNoneCount(fake_value=9999999999,\n",
       "                                               prefix='delta')),\n",
       "                                 ('anzc_saldo',\n",
       "                                  AddNonZeroCount(prefix='saldo')),\n",
       "                                 ('anzc_imp', AddNonZeroCount(prefix='imp')),\n",
       "                                 ('anzc_delta',\n",
       "                                  AddNonZeroCount(prefix='delta')),\n",
       "                                 ('anzc_ind', AddNonZeroCount(prefix='ind')),\n",
       "                                 ('col_specific',\n",
       "                                  ColumnTransformer(remainder='passthrough',\n",
       "                                                    transformers=[('ord_encoders',\n",
       "                                                                   OrdinalEncoder(encoded_missing_value=-1,\n",
       "                                                                                  handle_unknown='use_encoded_value',\n",
       "                                                                                  min_frequency=40,\n",
       "                                                                                  unknown_value=-1),\n",
       "                                                                   ['var36',\n",
       "                                                                    'var21'])]))])),\n",
       "                ('clf', RandomForestClassifier())])"
      ]
     },
     "execution_count": 12,
     "metadata": {},
     "output_type": "execute_result"
    }
   ],
   "source": [
    "rfc = Pipeline(\n",
    "    steps=[\n",
    "        (\"preprocessing\", prep_01),\n",
    "        (\"clf\", RandomForestClassifier())\n",
    "    ]\n",
    ")\n",
    "\n",
    "rfc"
   ]
  },
  {
   "cell_type": "code",
   "execution_count": 13,
   "metadata": {},
   "outputs": [],
   "source": [
    "random_forest_model = FVR(\n",
    "    train.drop(\"ID\", axis=1),\n",
    "    dtc,\n",
    "    \"TARGET\",\n",
    "    test_size=.25,\n",
    "    use_grid_search=False\n",
    ")"
   ]
  },
  {
   "cell_type": "code",
   "execution_count": 14,
   "metadata": {},
   "outputs": [],
   "source": [
    "if FIT_MODELS == True:\n",
    "    random_forest_model.fit()\n",
    "    random_forest_model.save_model(\"models/random_forest_model.pkl\")"
   ]
  },
  {
   "cell_type": "code",
   "execution_count": 15,
   "metadata": {},
   "outputs": [],
   "source": [
    "random_forest_model = random_forest_model\n",
    "\n",
    "y_pred = random_forest_model \\\n",
    "    .predict(\n",
    "        test.drop([\"ID\",\"TARGET\"],\n",
    "        axis=1)\n",
    "    )\n",
    "\n",
    "scores[\"rfc\"] = profit(y_pred, test[\"TARGET\"])"
   ]
  },
  {
   "cell_type": "code",
   "execution_count": 16,
   "metadata": {},
   "outputs": [
    {
     "data": {
      "text/plain": [
       "{'dtc': 0.22230991844251513, 'rfc': 0.19600105235464352}"
      ]
     },
     "execution_count": 16,
     "metadata": {},
     "output_type": "execute_result"
    }
   ],
   "source": [
    "scores"
   ]
  }
 ],
 "metadata": {
  "kernelspec": {
   "display_name": "dmc-venv",
   "language": "python",
   "name": "python3"
  },
  "language_info": {
   "codemirror_mode": {
    "name": "ipython",
    "version": 3
   },
   "file_extension": ".py",
   "mimetype": "text/x-python",
   "name": "python",
   "nbconvert_exporter": "python",
   "pygments_lexer": "ipython3",
   "version": "3.10.6"
  },
  "orig_nbformat": 4
 },
 "nbformat": 4,
 "nbformat_minor": 2
}
