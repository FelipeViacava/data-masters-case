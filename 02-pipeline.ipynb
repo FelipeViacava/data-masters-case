{
 "cells": [
  {
   "attachments": {},
   "cell_type": "markdown",
   "metadata": {},
   "source": [
    "# Data Masters: Case"
   ]
  },
  {
   "attachments": {},
   "cell_type": "markdown",
   "metadata": {},
   "source": [
    "## Bibliotecas"
   ]
  },
  {
   "cell_type": "code",
   "execution_count": 1,
   "metadata": {},
   "outputs": [],
   "source": [
    "# --- Data Exploration --- #\n",
    "import numpy as np\n",
    "import pandas as pd\n",
    "\n",
    "# --- sklearn pre processing tools --- #\n",
    "from sklearn.preprocessing import StandardScaler, FunctionTransformer\n",
    "\n",
    "# --- Classification model --- #\n",
    "from sklearn.ensemble import GradientBoostingClassifier\n",
    "\n",
    "# --- Clustering --- #\n",
    "from sklearn.decomposition import PCA\n",
    "from sklearn.cluster import KMeans\n",
    "\n",
    "# --- Model Evaluation --- #\n",
    "from sklearn.metrics import auc, confusion_matrix, roc_auc_score, make_scorer\n",
    "\n",
    "# --- Pìpeline Building --- #\n",
    "from sklearn.impute import SimpleImputer\n",
    "from sklearn.compose import ColumnTransformer\n",
    "from sklearn.pipeline import Pipeline\n",
    "from sklearn.model_selection import train_test_split, GridSearchCV\n",
    "from sklearn.base import BaseEstimator, TransformerMixin\n",
    "\n",
    "# --- Custom Libs --- #\n",
    "from resources.utils import ColumnDropper"
   ]
  },
  {
   "attachments": {},
   "cell_type": "markdown",
   "metadata": {},
   "source": [
    "## Pipeline de Classificação"
   ]
  },
  {
   "cell_type": "code",
   "execution_count": 2,
   "metadata": {},
   "outputs": [],
   "source": [
    "with open(\"resources/drop_cols.txt\") as f:\n",
    "    drop_cols = [line.rstrip(\"\\n\") for line in f]"
   ]
  },
  {
   "cell_type": "code",
   "execution_count": 3,
   "metadata": {},
   "outputs": [],
   "source": [
    "main_pipeline = Pipeline(\n",
    "    steps=[\n",
    "        (\"ColDrop\", ColumnDropper(drop_cols)),\n",
    "        (\"clf\", GradientBoostingClassifier())\n",
    "    ]\n",
    ")"
   ]
  },
  {
   "cell_type": "code",
   "execution_count": 4,
   "metadata": {},
   "outputs": [],
   "source": [
    "param_grid = {\n",
    "    \"clf__n_estimators\": [80, 100, 200],\n",
    "    \"clf__learning_rate\": [.01, .1, 1],\n",
    "    \"clf__max_depth\": [4, 6, 8]\n",
    "}"
   ]
  },
  {
   "cell_type": "code",
   "execution_count": 5,
   "metadata": {},
   "outputs": [],
   "source": [
    "gscv = GridSearchCV(\n",
    "    main_pipeline,\n",
    "    param_grid=param_grid,\n",
    "    scoring=\"roc_auc\",\n",
    "    n_jobs=14,\n",
    "    error_score=\"raise\"\n",
    ")"
   ]
  },
  {
   "cell_type": "markdown",
   "metadata": {},
   "source": [
    "## Fit"
   ]
  },
  {
   "cell_type": "code",
   "execution_count": 6,
   "metadata": {},
   "outputs": [],
   "source": [
    "df = pd.read_csv(\"data/train.csv\")\n",
    "X = df.set_index(\"ID\")\n",
    "y = df.set_index(\"ID\")[\"TARGET\"]\n",
    "\n",
    "X_train, X_test, y_train, y_test = train_test_split(\n",
    "    X,\n",
    "    y,\n",
    "    test_size=0.2,\n",
    "    random_state=42,\n",
    "    stratify=y\n",
    ")\n",
    "\n",
    "X_train = X_train.drop(\"TARGET\", axis=1)"
   ]
  },
  {
   "cell_type": "code",
   "execution_count": 7,
   "metadata": {},
   "outputs": [],
   "source": [
    "gscv = gscv.fit(X_train,y_train)"
   ]
  },
  {
   "cell_type": "code",
   "execution_count": null,
   "metadata": {},
   "outputs": [
    {
     "data": {
      "text/html": [
       "<style>#sk-container-id-2 {color: black;}#sk-container-id-2 pre{padding: 0;}#sk-container-id-2 div.sk-toggleable {background-color: white;}#sk-container-id-2 label.sk-toggleable__label {cursor: pointer;display: block;width: 100%;margin-bottom: 0;padding: 0.3em;box-sizing: border-box;text-align: center;}#sk-container-id-2 label.sk-toggleable__label-arrow:before {content: \"▸\";float: left;margin-right: 0.25em;color: #696969;}#sk-container-id-2 label.sk-toggleable__label-arrow:hover:before {color: black;}#sk-container-id-2 div.sk-estimator:hover label.sk-toggleable__label-arrow:before {color: black;}#sk-container-id-2 div.sk-toggleable__content {max-height: 0;max-width: 0;overflow: hidden;text-align: left;background-color: #f0f8ff;}#sk-container-id-2 div.sk-toggleable__content pre {margin: 0.2em;color: black;border-radius: 0.25em;background-color: #f0f8ff;}#sk-container-id-2 input.sk-toggleable__control:checked~div.sk-toggleable__content {max-height: 200px;max-width: 100%;overflow: auto;}#sk-container-id-2 input.sk-toggleable__control:checked~label.sk-toggleable__label-arrow:before {content: \"▾\";}#sk-container-id-2 div.sk-estimator input.sk-toggleable__control:checked~label.sk-toggleable__label {background-color: #d4ebff;}#sk-container-id-2 div.sk-label input.sk-toggleable__control:checked~label.sk-toggleable__label {background-color: #d4ebff;}#sk-container-id-2 input.sk-hidden--visually {border: 0;clip: rect(1px 1px 1px 1px);clip: rect(1px, 1px, 1px, 1px);height: 1px;margin: -1px;overflow: hidden;padding: 0;position: absolute;width: 1px;}#sk-container-id-2 div.sk-estimator {font-family: monospace;background-color: #f0f8ff;border: 1px dotted black;border-radius: 0.25em;box-sizing: border-box;margin-bottom: 0.5em;}#sk-container-id-2 div.sk-estimator:hover {background-color: #d4ebff;}#sk-container-id-2 div.sk-parallel-item::after {content: \"\";width: 100%;border-bottom: 1px solid gray;flex-grow: 1;}#sk-container-id-2 div.sk-label:hover label.sk-toggleable__label {background-color: #d4ebff;}#sk-container-id-2 div.sk-serial::before {content: \"\";position: absolute;border-left: 1px solid gray;box-sizing: border-box;top: 0;bottom: 0;left: 50%;z-index: 0;}#sk-container-id-2 div.sk-serial {display: flex;flex-direction: column;align-items: center;background-color: white;padding-right: 0.2em;padding-left: 0.2em;position: relative;}#sk-container-id-2 div.sk-item {position: relative;z-index: 1;}#sk-container-id-2 div.sk-parallel {display: flex;align-items: stretch;justify-content: center;background-color: white;position: relative;}#sk-container-id-2 div.sk-item::before, #sk-container-id-2 div.sk-parallel-item::before {content: \"\";position: absolute;border-left: 1px solid gray;box-sizing: border-box;top: 0;bottom: 0;left: 50%;z-index: -1;}#sk-container-id-2 div.sk-parallel-item {display: flex;flex-direction: column;z-index: 1;position: relative;background-color: white;}#sk-container-id-2 div.sk-parallel-item:first-child::after {align-self: flex-end;width: 50%;}#sk-container-id-2 div.sk-parallel-item:last-child::after {align-self: flex-start;width: 50%;}#sk-container-id-2 div.sk-parallel-item:only-child::after {width: 0;}#sk-container-id-2 div.sk-dashed-wrapped {border: 1px dashed gray;margin: 0 0.4em 0.5em 0.4em;box-sizing: border-box;padding-bottom: 0.4em;background-color: white;}#sk-container-id-2 div.sk-label label {font-family: monospace;font-weight: bold;display: inline-block;line-height: 1.2em;}#sk-container-id-2 div.sk-label-container {text-align: center;}#sk-container-id-2 div.sk-container {/* jupyter's `normalize.less` sets `[hidden] { display: none; }` but bootstrap.min.css set `[hidden] { display: none !important; }` so we also need the `!important` here to be able to override the default hidden behavior on the sphinx rendered scikit-learn.org. See: https://github.com/scikit-learn/scikit-learn/issues/21755 */display: inline-block !important;position: relative;}#sk-container-id-2 div.sk-text-repr-fallback {display: none;}</style><div id=\"sk-container-id-2\" class=\"sk-top-container\"><div class=\"sk-text-repr-fallback\"><pre>Pipeline(steps=[(&#x27;ColDrop&#x27;,\n",
       "                 ColumnDropper(columns_to_drop=[&#x27;ind_var29_0&#x27;, &#x27;ind_var29&#x27;,\n",
       "                                                &#x27;ind_var13_medio&#x27;, &#x27;ind_var18&#x27;,\n",
       "                                                &#x27;ind_var26&#x27;, &#x27;ind_var25&#x27;,\n",
       "                                                &#x27;ind_var32&#x27;, &#x27;ind_var34&#x27;,\n",
       "                                                &#x27;ind_var37&#x27;, &#x27;ind_var39&#x27;,\n",
       "                                                &#x27;num_var29_0&#x27;, &#x27;num_var29&#x27;,\n",
       "                                                &#x27;num_var13_medio&#x27;, &#x27;num_var18&#x27;,\n",
       "                                                &#x27;num_var26&#x27;, &#x27;num_var25&#x27;,\n",
       "                                                &#x27;num_var32&#x27;, &#x27;num_var34&#x27;,\n",
       "                                                &#x27;num_var37&#x27;, &#x27;num_var39&#x27;,\n",
       "                                                &#x27;saldo_var29&#x27;,\n",
       "                                                &#x27;saldo_medio_var13_medio_ult1&#x27;,\n",
       "                                                &#x27;delta_num_reemb_var13_1y3&#x27;,\n",
       "                                                &#x27;delta_num_reemb_var17_1y3&#x27;,\n",
       "                                                &#x27;delta_num_reemb_var33_1y3&#x27;,\n",
       "                                                &#x27;delta_num_trasp_var17_in_1y3&#x27;,\n",
       "                                                &#x27;delta_num_trasp_var17_out_1y3&#x27;,\n",
       "                                                &#x27;delta_num_trasp_var33_in_1y3&#x27;,\n",
       "                                                &#x27;delta_num_trasp_var33_out_1y3&#x27;,\n",
       "                                                &#x27;ind_var2_0&#x27;, ...])),\n",
       "                (&#x27;clf&#x27;,\n",
       "                 GradientBoostingClassifier(learning_rate=0.001, max_depth=4,\n",
       "                                            n_estimators=50))])</pre><b>In a Jupyter environment, please rerun this cell to show the HTML representation or trust the notebook. <br />On GitHub, the HTML representation is unable to render, please try loading this page with nbviewer.org.</b></div><div class=\"sk-container\" hidden><div class=\"sk-item sk-dashed-wrapped\"><div class=\"sk-label-container\"><div class=\"sk-label sk-toggleable\"><input class=\"sk-toggleable__control sk-hidden--visually\" id=\"sk-estimator-id-4\" type=\"checkbox\" ><label for=\"sk-estimator-id-4\" class=\"sk-toggleable__label sk-toggleable__label-arrow\">Pipeline</label><div class=\"sk-toggleable__content\"><pre>Pipeline(steps=[(&#x27;ColDrop&#x27;,\n",
       "                 ColumnDropper(columns_to_drop=[&#x27;ind_var29_0&#x27;, &#x27;ind_var29&#x27;,\n",
       "                                                &#x27;ind_var13_medio&#x27;, &#x27;ind_var18&#x27;,\n",
       "                                                &#x27;ind_var26&#x27;, &#x27;ind_var25&#x27;,\n",
       "                                                &#x27;ind_var32&#x27;, &#x27;ind_var34&#x27;,\n",
       "                                                &#x27;ind_var37&#x27;, &#x27;ind_var39&#x27;,\n",
       "                                                &#x27;num_var29_0&#x27;, &#x27;num_var29&#x27;,\n",
       "                                                &#x27;num_var13_medio&#x27;, &#x27;num_var18&#x27;,\n",
       "                                                &#x27;num_var26&#x27;, &#x27;num_var25&#x27;,\n",
       "                                                &#x27;num_var32&#x27;, &#x27;num_var34&#x27;,\n",
       "                                                &#x27;num_var37&#x27;, &#x27;num_var39&#x27;,\n",
       "                                                &#x27;saldo_var29&#x27;,\n",
       "                                                &#x27;saldo_medio_var13_medio_ult1&#x27;,\n",
       "                                                &#x27;delta_num_reemb_var13_1y3&#x27;,\n",
       "                                                &#x27;delta_num_reemb_var17_1y3&#x27;,\n",
       "                                                &#x27;delta_num_reemb_var33_1y3&#x27;,\n",
       "                                                &#x27;delta_num_trasp_var17_in_1y3&#x27;,\n",
       "                                                &#x27;delta_num_trasp_var17_out_1y3&#x27;,\n",
       "                                                &#x27;delta_num_trasp_var33_in_1y3&#x27;,\n",
       "                                                &#x27;delta_num_trasp_var33_out_1y3&#x27;,\n",
       "                                                &#x27;ind_var2_0&#x27;, ...])),\n",
       "                (&#x27;clf&#x27;,\n",
       "                 GradientBoostingClassifier(learning_rate=0.001, max_depth=4,\n",
       "                                            n_estimators=50))])</pre></div></div></div><div class=\"sk-serial\"><div class=\"sk-item\"><div class=\"sk-estimator sk-toggleable\"><input class=\"sk-toggleable__control sk-hidden--visually\" id=\"sk-estimator-id-5\" type=\"checkbox\" ><label for=\"sk-estimator-id-5\" class=\"sk-toggleable__label sk-toggleable__label-arrow\">ColumnDropper</label><div class=\"sk-toggleable__content\"><pre>ColumnDropper(columns_to_drop=[&#x27;ind_var29_0&#x27;, &#x27;ind_var29&#x27;, &#x27;ind_var13_medio&#x27;,\n",
       "                               &#x27;ind_var18&#x27;, &#x27;ind_var26&#x27;, &#x27;ind_var25&#x27;,\n",
       "                               &#x27;ind_var32&#x27;, &#x27;ind_var34&#x27;, &#x27;ind_var37&#x27;,\n",
       "                               &#x27;ind_var39&#x27;, &#x27;num_var29_0&#x27;, &#x27;num_var29&#x27;,\n",
       "                               &#x27;num_var13_medio&#x27;, &#x27;num_var18&#x27;, &#x27;num_var26&#x27;,\n",
       "                               &#x27;num_var25&#x27;, &#x27;num_var32&#x27;, &#x27;num_var34&#x27;,\n",
       "                               &#x27;num_var37&#x27;, &#x27;num_var39&#x27;, &#x27;saldo_var29&#x27;,\n",
       "                               &#x27;saldo_medio_var13_medio_ult1&#x27;,\n",
       "                               &#x27;delta_num_reemb_var13_1y3&#x27;,\n",
       "                               &#x27;delta_num_reemb_var17_1y3&#x27;,\n",
       "                               &#x27;delta_num_reemb_var33_1y3&#x27;,\n",
       "                               &#x27;delta_num_trasp_var17_in_1y3&#x27;,\n",
       "                               &#x27;delta_num_trasp_var17_out_1y3&#x27;,\n",
       "                               &#x27;delta_num_trasp_var33_in_1y3&#x27;,\n",
       "                               &#x27;delta_num_trasp_var33_out_1y3&#x27;, &#x27;ind_var2_0&#x27;, ...])</pre></div></div></div><div class=\"sk-item\"><div class=\"sk-estimator sk-toggleable\"><input class=\"sk-toggleable__control sk-hidden--visually\" id=\"sk-estimator-id-6\" type=\"checkbox\" ><label for=\"sk-estimator-id-6\" class=\"sk-toggleable__label sk-toggleable__label-arrow\">GradientBoostingClassifier</label><div class=\"sk-toggleable__content\"><pre>GradientBoostingClassifier(learning_rate=0.001, max_depth=4, n_estimators=50)</pre></div></div></div></div></div></div></div>"
      ],
      "text/plain": [
       "Pipeline(steps=[('ColDrop',\n",
       "                 ColumnDropper(columns_to_drop=['ind_var29_0', 'ind_var29',\n",
       "                                                'ind_var13_medio', 'ind_var18',\n",
       "                                                'ind_var26', 'ind_var25',\n",
       "                                                'ind_var32', 'ind_var34',\n",
       "                                                'ind_var37', 'ind_var39',\n",
       "                                                'num_var29_0', 'num_var29',\n",
       "                                                'num_var13_medio', 'num_var18',\n",
       "                                                'num_var26', 'num_var25',\n",
       "                                                'num_var32', 'num_var34',\n",
       "                                                'num_var37', 'num_var39',\n",
       "                                                'saldo_var29',\n",
       "                                                'saldo_medio_var13_medio_ult1',\n",
       "                                                'delta_num_reemb_var13_1y3',\n",
       "                                                'delta_num_reemb_var17_1y3',\n",
       "                                                'delta_num_reemb_var33_1y3',\n",
       "                                                'delta_num_trasp_var17_in_1y3',\n",
       "                                                'delta_num_trasp_var17_out_1y3',\n",
       "                                                'delta_num_trasp_var33_in_1y3',\n",
       "                                                'delta_num_trasp_var33_out_1y3',\n",
       "                                                'ind_var2_0', ...])),\n",
       "                ('clf',\n",
       "                 GradientBoostingClassifier(learning_rate=0.001, max_depth=4,\n",
       "                                            n_estimators=50))])"
      ]
     },
     "execution_count": 14,
     "metadata": {},
     "output_type": "execute_result"
    }
   ],
   "source": [
    "gscv.best_estimator_"
   ]
  }
 ],
 "metadata": {
  "kernelspec": {
   "display_name": "dmc-venv",
   "language": "python",
   "name": "python3"
  },
  "language_info": {
   "codemirror_mode": {
    "name": "ipython",
    "version": 3
   },
   "file_extension": ".py",
   "mimetype": "text/x-python",
   "name": "python",
   "nbconvert_exporter": "python",
   "pygments_lexer": "ipython3",
   "version": "3.10.6"
  },
  "orig_nbformat": 4
 },
 "nbformat": 4,
 "nbformat_minor": 2
}
