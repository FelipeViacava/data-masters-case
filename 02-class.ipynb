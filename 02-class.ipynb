{
 "cells": [
  {
   "attachments": {},
   "cell_type": "markdown",
   "metadata": {},
   "source": [
    "# Data Masters Case: Modelo de Classificação\n",
    "\n",
    "Felipe Viacava -- São Paulo, ago/2023\n",
    "\n",
    "O presente documento consiste no treinamento e avaliação de modelos de classificação como parte da solução do Case \"Data Masters - Cientista de Dados\" do Santander Brasil. O objetivo é treinar um modelo de classificação de clientes possivelmente insatisfeitos com o banco para selecionar o público alvo de uma campanha de retenção.\n",
    "\n",
    "Além das premissas estabelecidas na etapa de exploração dos dados, assumimos que:\n",
    "- Buscamos um modelo de alto poder preditivo e não um modelo para inferência;\n",
    "- Para cada cliente marcado como insatisfeito (_predicted positive_) pelo modelo, temos um custo de R$10,00;\n",
    "- Destes, para os verdadeiramente insatisfeitos (_true positives_), temos um retorno de R$100,00;\n",
    "- O melhor modelo é aquele que maximiza o retorno sobre a campanha de retenção, ou seja, a soma de:\n",
    "    - _False Positives_, que geram custo R$10,00 por observação;\n",
    "    - _True Positives_, que geram lucro de R$90,00 por observação;\n",
    "    - _False Negatives_, que não geram lucro nem custo por observação;\n",
    "    - _True Negatives_, que não geram lucro nem custo por observação.\n",
    "\n",
    "As premissas acima surgem da interpretação do enunciado do problema. Outras premissas que nortearam o desenvolvimento dos modelos são:\n",
    "- O código deve ser limpo, conciso e reprodutível;\n",
    "- A performance dos modelos deve ser comparada sobre um conjunto de dados nunca antes visto, prevenindo _data leakage_. Este conjunto foi separado antes da análise exploratória, simulando o que seria o acompanhamento da performance de um modelo após sua implementação;\n",
    "- Uso de transformadores em _pipelines_ para qualquer tipo de processamento nos dados, garantindo fácil implementação e reprodutibilidade;\n",
    "- Todos os modelos testados devem obrigatoriamente passar pelos mesmos passos, sendo estes:\n",
    "    - Divisão dos dados entre treino e validação, estratificado por TARGET;\n",
    "    - _GridSearchCV_ para hiperparametrização maximizando a _AUC_ (conjunto de treino);\n",
    "    - Retreino após a escolha dos melhores hiperparâmetros (conjunto de treino);\n",
    "    - Ajuste do corte de classificação maximizando a função $\\frac{90tp - 10fp}{n}$ (conjunto de validação);\n",
    "    - Retreino após a escolha do melhor corte de classificação e melhores hiperparâmetros (conjunto de treino + validação);\n",
    "    - Avaliação e comparação no contexto de negócios (conjunto de testes)."
   ]
  },
  {
   "cell_type": "code",
   "execution_count": 1,
   "metadata": {},
   "outputs": [],
   "source": [
    "TRAIN_RF = True"
   ]
  },
  {
   "attachments": {},
   "cell_type": "markdown",
   "metadata": {},
   "source": [
    "## Bibliotecas"
   ]
  },
  {
   "cell_type": "code",
   "execution_count": 2,
   "metadata": {},
   "outputs": [],
   "source": [
    "# --- Data Exploration and Viz --- #\n",
    "import pandas as pd\n",
    "\n",
    "# --- Classification models --- #\n",
    "from sklearn.ensemble import RandomForestClassifier\n",
    "\n",
    "# --- Preprocessing --- #\n",
    "from sklearn.impute import SimpleImputer\n",
    "from resources.customtransformers import \\\n",
    "    DropConstantColumns, \\\n",
    "    DropDuplicateColumns, \\\n",
    "    AddNonZeroCount, \\\n",
    "    CustomSum, \\\n",
    "    CustomImputer, \\\n",
    "    AddNoneCount, \\\n",
    "    CustomEncoder\n",
    "\n",
    "# --- Pipeline Building --- #\n",
    "from sklearn.pipeline import Pipeline\n",
    "from resources.train_evaluate import build_model"
   ]
  },
  {
   "cell_type": "markdown",
   "metadata": {},
   "source": [
    "## Leitura dos dados"
   ]
  },
  {
   "cell_type": "code",
   "execution_count": 3,
   "metadata": {},
   "outputs": [],
   "source": [
    "train = pd.read_csv(\"data/train.csv\")\n",
    "test = pd.read_csv(\"data/test.csv\")"
   ]
  },
  {
   "cell_type": "markdown",
   "metadata": {},
   "source": [
    "## Modelagem"
   ]
  },
  {
   "cell_type": "markdown",
   "metadata": {},
   "source": [
    "### Pipeline base\n",
    "\n",
    "Este pipeline segue os passos sugeridos durante a análise exploratória."
   ]
  },
  {
   "cell_type": "code",
   "execution_count": 4,
   "metadata": {},
   "outputs": [],
   "source": [
    "prep = Pipeline(\n",
    "    steps=[\n",
    "        (\n",
    "            \"DropConstantColumns\",\n",
    "            DropConstantColumns(also=[\"ID\"])\n",
    "        ),\n",
    "        (\n",
    "            \"DropDuplicateColumns\",\n",
    "            DropDuplicateColumns()\n",
    "        ),\n",
    "        (\n",
    "            \"NoneZeroCountSaldo\",\n",
    "            AddNonZeroCount(prefix=\"saldo\")\n",
    "        ),\n",
    "        (\n",
    "            \"SumSaldo\",\n",
    "            CustomSum(prefix=\"saldo\")\n",
    "        ),\n",
    "        (\n",
    "            \"NoneZeroCountImp\",\n",
    "            AddNonZeroCount(prefix=\"imp\")\n",
    "        ),\n",
    "        (\n",
    "            \"SumImp\",\n",
    "            CustomSum(prefix=\"imp\")\n",
    "        ),\n",
    "        (\n",
    "            \"ImputeNanDelta\",\n",
    "            CustomImputer(prefix=\"delta\", to_replace=9999999999)\n",
    "        ),\n",
    "        (\n",
    "            \"NoneCountDelta\",\n",
    "            AddNoneCount(prefix=\"delta\")\n",
    "        ),\n",
    "        (\n",
    "            \"NonZeroCountDelta\",\n",
    "            AddNonZeroCount(prefix=\"delta\")\n",
    "        ),\n",
    "        (\n",
    "            \"SumDelta\",\n",
    "            CustomSum(prefix=\"delta\")\n",
    "        ),\n",
    "        (\n",
    "            \"NonZeroContInd\",\n",
    "            AddNonZeroCount(prefix=\"ind\")\n",
    "        ),\n",
    "        (\n",
    "            \"NonZeroCountNum\",\n",
    "            AddNonZeroCount(prefix=\"num\")\n",
    "        ),\n",
    "        (\n",
    "            \"SumNum\",\n",
    "            CustomSum(prefix=\"num\")\n",
    "        ),\n",
    "        (\n",
    "            \"ImputeNanVar3\",\n",
    "            CustomImputer(prefix=\"var3\", to_replace=-999999)\n",
    "        ),\n",
    "        (\n",
    "            \"CustomEncoderVar36\",\n",
    "            CustomEncoder(colname=\"var36\")\n",
    "        ),\n",
    "        (\n",
    "            \"CustomEncoderVar21\",\n",
    "            CustomEncoder(colname=\"var21\")\n",
    "        )\n",
    "    ]\n",
    ")"
   ]
  },
  {
   "cell_type": "markdown",
   "metadata": {},
   "source": [
    "### Preenchendo NaN\n",
    "\n",
    "Diferentemente de outros algoritmos baseados em árvores de decisão do _sklearn_, o algoritmo _RandomForestClassifier_ não tem uma estratégia definida para lidar com dados faltantes. Assim, ao final do pipeline anterior, adicionamos uma última etapa que preenche os valores faltantes com a mediana da coluna. Foi escolhida a mediana pois:\n",
    "- As variáveis de prefixo \"Delta\" (contínua) são esparsas e a média seria muito afetada por outliers;\n",
    "- Assumiu-se a variável \"var3\" como variável de contagem (discreta), não fazendo sentido usar a média para preenchimento;\n",
    "- Como o dataset é composto por muitas variáveis e estas não foram analisadas individualmente, optou-se por não ajustar as escalas das variáveis e testar apenas modelos baseados em árvores. Assim, não faria sentido utilizar o _KNNImputer_ nesta versão da solução do _case_, e pode ser um ponto a melhorar para futuras entregas -- assim como o teste de algoritmos lineares."
   ]
  },
  {
   "cell_type": "code",
   "execution_count": 5,
   "metadata": {},
   "outputs": [],
   "source": [
    "prep_nan = Pipeline(\n",
    "    steps=[\n",
    "        (\"prep\", prep),\n",
    "        (\"nan\", SimpleImputer(strategy=\"median\"))\n",
    "    ]\n",
    ")"
   ]
  },
  {
   "cell_type": "markdown",
   "metadata": {},
   "source": [
    "### Random Forest"
   ]
  },
  {
   "cell_type": "code",
   "execution_count": 6,
   "metadata": {},
   "outputs": [
    {
     "name": "stdout",
     "output_type": "stream",
     "text": [
      "Splitting data into train and validation sets...\n",
      "Done!\n",
      "Performing GridSearchCV...\n",
      "Done!\n",
      "Adjusting threshold based on validation set...\n",
      "Done!\n",
      "Fitting model on the whole dataset...\n",
      "Done!\n"
     ]
    }
   ],
   "source": [
    "rf = Pipeline(\n",
    "    steps=[\n",
    "        (\"preprocessor\", prep_nan),\n",
    "        (\"classifier\", RandomForestClassifier())\n",
    "    ]\n",
    ")\n",
    "\n",
    "rf_grid = {\n",
    "    \"classifier__n_estimators\": [100],\n",
    "    \"classifier__max_depth\": [10, 20],\n",
    "    \"classifier__max_features\": [\"sqrt\"]\n",
    "}\n",
    "\n",
    "rf_model = build_model(\n",
    "    train=TRAIN_RF,\n",
    "    path=\"models/rf.pkl\",\n",
    "    train_df = train,\n",
    "    test_df = test,\n",
    "    model = rf,\n",
    "    param_grid = rf_grid,\n",
    "    target = \"TARGET\",\n",
    "    njobs = 8,\n",
    "    verbose = True\n",
    ")"
   ]
  },
  {
   "cell_type": "code",
   "execution_count": 10,
   "metadata": {},
   "outputs": [
    {
     "data": {
      "text/html": [
       "<style>#sk-container-id-2 {color: black;}#sk-container-id-2 pre{padding: 0;}#sk-container-id-2 div.sk-toggleable {background-color: white;}#sk-container-id-2 label.sk-toggleable__label {cursor: pointer;display: block;width: 100%;margin-bottom: 0;padding: 0.3em;box-sizing: border-box;text-align: center;}#sk-container-id-2 label.sk-toggleable__label-arrow:before {content: \"▸\";float: left;margin-right: 0.25em;color: #696969;}#sk-container-id-2 label.sk-toggleable__label-arrow:hover:before {color: black;}#sk-container-id-2 div.sk-estimator:hover label.sk-toggleable__label-arrow:before {color: black;}#sk-container-id-2 div.sk-toggleable__content {max-height: 0;max-width: 0;overflow: hidden;text-align: left;background-color: #f0f8ff;}#sk-container-id-2 div.sk-toggleable__content pre {margin: 0.2em;color: black;border-radius: 0.25em;background-color: #f0f8ff;}#sk-container-id-2 input.sk-toggleable__control:checked~div.sk-toggleable__content {max-height: 200px;max-width: 100%;overflow: auto;}#sk-container-id-2 input.sk-toggleable__control:checked~label.sk-toggleable__label-arrow:before {content: \"▾\";}#sk-container-id-2 div.sk-estimator input.sk-toggleable__control:checked~label.sk-toggleable__label {background-color: #d4ebff;}#sk-container-id-2 div.sk-label input.sk-toggleable__control:checked~label.sk-toggleable__label {background-color: #d4ebff;}#sk-container-id-2 input.sk-hidden--visually {border: 0;clip: rect(1px 1px 1px 1px);clip: rect(1px, 1px, 1px, 1px);height: 1px;margin: -1px;overflow: hidden;padding: 0;position: absolute;width: 1px;}#sk-container-id-2 div.sk-estimator {font-family: monospace;background-color: #f0f8ff;border: 1px dotted black;border-radius: 0.25em;box-sizing: border-box;margin-bottom: 0.5em;}#sk-container-id-2 div.sk-estimator:hover {background-color: #d4ebff;}#sk-container-id-2 div.sk-parallel-item::after {content: \"\";width: 100%;border-bottom: 1px solid gray;flex-grow: 1;}#sk-container-id-2 div.sk-label:hover label.sk-toggleable__label {background-color: #d4ebff;}#sk-container-id-2 div.sk-serial::before {content: \"\";position: absolute;border-left: 1px solid gray;box-sizing: border-box;top: 0;bottom: 0;left: 50%;z-index: 0;}#sk-container-id-2 div.sk-serial {display: flex;flex-direction: column;align-items: center;background-color: white;padding-right: 0.2em;padding-left: 0.2em;position: relative;}#sk-container-id-2 div.sk-item {position: relative;z-index: 1;}#sk-container-id-2 div.sk-parallel {display: flex;align-items: stretch;justify-content: center;background-color: white;position: relative;}#sk-container-id-2 div.sk-item::before, #sk-container-id-2 div.sk-parallel-item::before {content: \"\";position: absolute;border-left: 1px solid gray;box-sizing: border-box;top: 0;bottom: 0;left: 50%;z-index: -1;}#sk-container-id-2 div.sk-parallel-item {display: flex;flex-direction: column;z-index: 1;position: relative;background-color: white;}#sk-container-id-2 div.sk-parallel-item:first-child::after {align-self: flex-end;width: 50%;}#sk-container-id-2 div.sk-parallel-item:last-child::after {align-self: flex-start;width: 50%;}#sk-container-id-2 div.sk-parallel-item:only-child::after {width: 0;}#sk-container-id-2 div.sk-dashed-wrapped {border: 1px dashed gray;margin: 0 0.4em 0.5em 0.4em;box-sizing: border-box;padding-bottom: 0.4em;background-color: white;}#sk-container-id-2 div.sk-label label {font-family: monospace;font-weight: bold;display: inline-block;line-height: 1.2em;}#sk-container-id-2 div.sk-label-container {text-align: center;}#sk-container-id-2 div.sk-container {/* jupyter's `normalize.less` sets `[hidden] { display: none; }` but bootstrap.min.css set `[hidden] { display: none !important; }` so we also need the `!important` here to be able to override the default hidden behavior on the sphinx rendered scikit-learn.org. See: https://github.com/scikit-learn/scikit-learn/issues/21755 */display: inline-block !important;position: relative;}#sk-container-id-2 div.sk-text-repr-fallback {display: none;}</style><div id=\"sk-container-id-2\" class=\"sk-top-container\"><div class=\"sk-text-repr-fallback\"><pre>Pipeline(steps=[(&#x27;preprocessor&#x27;,\n",
       "                 Pipeline(steps=[(&#x27;prep&#x27;,\n",
       "                                  Pipeline(steps=[(&#x27;DropConstantColumns&#x27;,\n",
       "                                                   DropConstantColumns(also=[&#x27;ID&#x27;])),\n",
       "                                                  (&#x27;DropDuplicateColumns&#x27;,\n",
       "                                                   DropDuplicateColumns()),\n",
       "                                                  (&#x27;NoneZeroCountSaldo&#x27;,\n",
       "                                                   AddNonZeroCount(prefix=&#x27;saldo&#x27;)),\n",
       "                                                  (&#x27;SumSaldo&#x27;,\n",
       "                                                   CustomSum(prefix=&#x27;saldo&#x27;)),\n",
       "                                                  (&#x27;NoneZeroCountImp&#x27;,\n",
       "                                                   AddNonZeroCount(prefix=&#x27;imp&#x27;)),\n",
       "                                                  (&#x27;SumImp&#x27;,\n",
       "                                                   CustomSum(prefix=&#x27;...\n",
       "                                                  (&#x27;NonZeroCountNum&#x27;,\n",
       "                                                   AddNonZeroCount(prefix=&#x27;num&#x27;)),\n",
       "                                                  (&#x27;SumNum&#x27;,\n",
       "                                                   CustomSum(prefix=&#x27;num&#x27;)),\n",
       "                                                  (&#x27;ImputeNanVar3&#x27;,\n",
       "                                                   CustomImputer(prefix=&#x27;var3&#x27;,\n",
       "                                                                 to_replace=-999999)),\n",
       "                                                  (&#x27;CustomEncoderVar36&#x27;,\n",
       "                                                   CustomEncoder(colname=&#x27;var36&#x27;)),\n",
       "                                                  (&#x27;CustomEncoderVar21&#x27;,\n",
       "                                                   CustomEncoder(colname=&#x27;var21&#x27;))])),\n",
       "                                 (&#x27;nan&#x27;, SimpleImputer(strategy=&#x27;median&#x27;))])),\n",
       "                (&#x27;classifier&#x27;, RandomForestClassifier(max_depth=20))])</pre><b>In a Jupyter environment, please rerun this cell to show the HTML representation or trust the notebook. <br />On GitHub, the HTML representation is unable to render, please try loading this page with nbviewer.org.</b></div><div class=\"sk-container\" hidden><div class=\"sk-item sk-dashed-wrapped\"><div class=\"sk-label-container\"><div class=\"sk-label sk-toggleable\"><input class=\"sk-toggleable__control sk-hidden--visually\" id=\"sk-estimator-id-22\" type=\"checkbox\" ><label for=\"sk-estimator-id-22\" class=\"sk-toggleable__label sk-toggleable__label-arrow\">Pipeline</label><div class=\"sk-toggleable__content\"><pre>Pipeline(steps=[(&#x27;preprocessor&#x27;,\n",
       "                 Pipeline(steps=[(&#x27;prep&#x27;,\n",
       "                                  Pipeline(steps=[(&#x27;DropConstantColumns&#x27;,\n",
       "                                                   DropConstantColumns(also=[&#x27;ID&#x27;])),\n",
       "                                                  (&#x27;DropDuplicateColumns&#x27;,\n",
       "                                                   DropDuplicateColumns()),\n",
       "                                                  (&#x27;NoneZeroCountSaldo&#x27;,\n",
       "                                                   AddNonZeroCount(prefix=&#x27;saldo&#x27;)),\n",
       "                                                  (&#x27;SumSaldo&#x27;,\n",
       "                                                   CustomSum(prefix=&#x27;saldo&#x27;)),\n",
       "                                                  (&#x27;NoneZeroCountImp&#x27;,\n",
       "                                                   AddNonZeroCount(prefix=&#x27;imp&#x27;)),\n",
       "                                                  (&#x27;SumImp&#x27;,\n",
       "                                                   CustomSum(prefix=&#x27;...\n",
       "                                                  (&#x27;NonZeroCountNum&#x27;,\n",
       "                                                   AddNonZeroCount(prefix=&#x27;num&#x27;)),\n",
       "                                                  (&#x27;SumNum&#x27;,\n",
       "                                                   CustomSum(prefix=&#x27;num&#x27;)),\n",
       "                                                  (&#x27;ImputeNanVar3&#x27;,\n",
       "                                                   CustomImputer(prefix=&#x27;var3&#x27;,\n",
       "                                                                 to_replace=-999999)),\n",
       "                                                  (&#x27;CustomEncoderVar36&#x27;,\n",
       "                                                   CustomEncoder(colname=&#x27;var36&#x27;)),\n",
       "                                                  (&#x27;CustomEncoderVar21&#x27;,\n",
       "                                                   CustomEncoder(colname=&#x27;var21&#x27;))])),\n",
       "                                 (&#x27;nan&#x27;, SimpleImputer(strategy=&#x27;median&#x27;))])),\n",
       "                (&#x27;classifier&#x27;, RandomForestClassifier(max_depth=20))])</pre></div></div></div><div class=\"sk-serial\"><div class=\"sk-item\"><div class=\"sk-label-container\"><div class=\"sk-label sk-toggleable\"><input class=\"sk-toggleable__control sk-hidden--visually\" id=\"sk-estimator-id-23\" type=\"checkbox\" ><label for=\"sk-estimator-id-23\" class=\"sk-toggleable__label sk-toggleable__label-arrow\">preprocessor: Pipeline</label><div class=\"sk-toggleable__content\"><pre>Pipeline(steps=[(&#x27;prep&#x27;,\n",
       "                 Pipeline(steps=[(&#x27;DropConstantColumns&#x27;,\n",
       "                                  DropConstantColumns(also=[&#x27;ID&#x27;])),\n",
       "                                 (&#x27;DropDuplicateColumns&#x27;,\n",
       "                                  DropDuplicateColumns()),\n",
       "                                 (&#x27;NoneZeroCountSaldo&#x27;,\n",
       "                                  AddNonZeroCount(prefix=&#x27;saldo&#x27;)),\n",
       "                                 (&#x27;SumSaldo&#x27;, CustomSum(prefix=&#x27;saldo&#x27;)),\n",
       "                                 (&#x27;NoneZeroCountImp&#x27;,\n",
       "                                  AddNonZeroCount(prefix=&#x27;imp&#x27;)),\n",
       "                                 (&#x27;SumImp&#x27;, CustomSum(prefix=&#x27;imp&#x27;)),\n",
       "                                 (&#x27;ImputeNanDelta&#x27;,\n",
       "                                  CustomI...\n",
       "                                 (&#x27;NonZeroContInd&#x27;,\n",
       "                                  AddNonZeroCount(prefix=&#x27;ind&#x27;)),\n",
       "                                 (&#x27;NonZeroCountNum&#x27;,\n",
       "                                  AddNonZeroCount(prefix=&#x27;num&#x27;)),\n",
       "                                 (&#x27;SumNum&#x27;, CustomSum(prefix=&#x27;num&#x27;)),\n",
       "                                 (&#x27;ImputeNanVar3&#x27;,\n",
       "                                  CustomImputer(prefix=&#x27;var3&#x27;,\n",
       "                                                to_replace=-999999)),\n",
       "                                 (&#x27;CustomEncoderVar36&#x27;,\n",
       "                                  CustomEncoder(colname=&#x27;var36&#x27;)),\n",
       "                                 (&#x27;CustomEncoderVar21&#x27;,\n",
       "                                  CustomEncoder(colname=&#x27;var21&#x27;))])),\n",
       "                (&#x27;nan&#x27;, SimpleImputer(strategy=&#x27;median&#x27;))])</pre></div></div></div><div class=\"sk-serial\"><div class=\"sk-item\"><div class=\"sk-label-container\"><div class=\"sk-label sk-toggleable\"><input class=\"sk-toggleable__control sk-hidden--visually\" id=\"sk-estimator-id-24\" type=\"checkbox\" ><label for=\"sk-estimator-id-24\" class=\"sk-toggleable__label sk-toggleable__label-arrow\">prep: Pipeline</label><div class=\"sk-toggleable__content\"><pre>Pipeline(steps=[(&#x27;DropConstantColumns&#x27;, DropConstantColumns(also=[&#x27;ID&#x27;])),\n",
       "                (&#x27;DropDuplicateColumns&#x27;, DropDuplicateColumns()),\n",
       "                (&#x27;NoneZeroCountSaldo&#x27;, AddNonZeroCount(prefix=&#x27;saldo&#x27;)),\n",
       "                (&#x27;SumSaldo&#x27;, CustomSum(prefix=&#x27;saldo&#x27;)),\n",
       "                (&#x27;NoneZeroCountImp&#x27;, AddNonZeroCount(prefix=&#x27;imp&#x27;)),\n",
       "                (&#x27;SumImp&#x27;, CustomSum(prefix=&#x27;imp&#x27;)),\n",
       "                (&#x27;ImputeNanDelta&#x27;,\n",
       "                 CustomImputer(prefix=&#x27;delta&#x27;, to...\n",
       "                (&#x27;NonZeroCountDelta&#x27;, AddNonZeroCount(prefix=&#x27;delta&#x27;)),\n",
       "                (&#x27;SumDelta&#x27;, CustomSum(prefix=&#x27;delta&#x27;)),\n",
       "                (&#x27;NonZeroContInd&#x27;, AddNonZeroCount(prefix=&#x27;ind&#x27;)),\n",
       "                (&#x27;NonZeroCountNum&#x27;, AddNonZeroCount(prefix=&#x27;num&#x27;)),\n",
       "                (&#x27;SumNum&#x27;, CustomSum(prefix=&#x27;num&#x27;)),\n",
       "                (&#x27;ImputeNanVar3&#x27;,\n",
       "                 CustomImputer(prefix=&#x27;var3&#x27;, to_replace=-999999)),\n",
       "                (&#x27;CustomEncoderVar36&#x27;, CustomEncoder(colname=&#x27;var36&#x27;)),\n",
       "                (&#x27;CustomEncoderVar21&#x27;, CustomEncoder(colname=&#x27;var21&#x27;))])</pre></div></div></div><div class=\"sk-serial\"><div class=\"sk-item\"><div class=\"sk-estimator sk-toggleable\"><input class=\"sk-toggleable__control sk-hidden--visually\" id=\"sk-estimator-id-25\" type=\"checkbox\" ><label for=\"sk-estimator-id-25\" class=\"sk-toggleable__label sk-toggleable__label-arrow\">DropConstantColumns</label><div class=\"sk-toggleable__content\"><pre>DropConstantColumns(also=[&#x27;ID&#x27;])</pre></div></div></div><div class=\"sk-item\"><div class=\"sk-estimator sk-toggleable\"><input class=\"sk-toggleable__control sk-hidden--visually\" id=\"sk-estimator-id-26\" type=\"checkbox\" ><label for=\"sk-estimator-id-26\" class=\"sk-toggleable__label sk-toggleable__label-arrow\">DropDuplicateColumns</label><div class=\"sk-toggleable__content\"><pre>DropDuplicateColumns()</pre></div></div></div><div class=\"sk-item\"><div class=\"sk-estimator sk-toggleable\"><input class=\"sk-toggleable__control sk-hidden--visually\" id=\"sk-estimator-id-27\" type=\"checkbox\" ><label for=\"sk-estimator-id-27\" class=\"sk-toggleable__label sk-toggleable__label-arrow\">AddNonZeroCount</label><div class=\"sk-toggleable__content\"><pre>AddNonZeroCount(prefix=&#x27;saldo&#x27;)</pre></div></div></div><div class=\"sk-item\"><div class=\"sk-estimator sk-toggleable\"><input class=\"sk-toggleable__control sk-hidden--visually\" id=\"sk-estimator-id-28\" type=\"checkbox\" ><label for=\"sk-estimator-id-28\" class=\"sk-toggleable__label sk-toggleable__label-arrow\">CustomSum</label><div class=\"sk-toggleable__content\"><pre>CustomSum(prefix=&#x27;saldo&#x27;)</pre></div></div></div><div class=\"sk-item\"><div class=\"sk-estimator sk-toggleable\"><input class=\"sk-toggleable__control sk-hidden--visually\" id=\"sk-estimator-id-29\" type=\"checkbox\" ><label for=\"sk-estimator-id-29\" class=\"sk-toggleable__label sk-toggleable__label-arrow\">AddNonZeroCount</label><div class=\"sk-toggleable__content\"><pre>AddNonZeroCount(prefix=&#x27;imp&#x27;)</pre></div></div></div><div class=\"sk-item\"><div class=\"sk-estimator sk-toggleable\"><input class=\"sk-toggleable__control sk-hidden--visually\" id=\"sk-estimator-id-30\" type=\"checkbox\" ><label for=\"sk-estimator-id-30\" class=\"sk-toggleable__label sk-toggleable__label-arrow\">CustomSum</label><div class=\"sk-toggleable__content\"><pre>CustomSum(prefix=&#x27;imp&#x27;)</pre></div></div></div><div class=\"sk-item\"><div class=\"sk-estimator sk-toggleable\"><input class=\"sk-toggleable__control sk-hidden--visually\" id=\"sk-estimator-id-31\" type=\"checkbox\" ><label for=\"sk-estimator-id-31\" class=\"sk-toggleable__label sk-toggleable__label-arrow\">CustomImputer</label><div class=\"sk-toggleable__content\"><pre>CustomImputer(prefix=&#x27;delta&#x27;, to_replace=9999999999)</pre></div></div></div><div class=\"sk-item\"><div class=\"sk-estimator sk-toggleable\"><input class=\"sk-toggleable__control sk-hidden--visually\" id=\"sk-estimator-id-32\" type=\"checkbox\" ><label for=\"sk-estimator-id-32\" class=\"sk-toggleable__label sk-toggleable__label-arrow\">AddNoneCount</label><div class=\"sk-toggleable__content\"><pre>AddNoneCount(prefix=&#x27;delta&#x27;)</pre></div></div></div><div class=\"sk-item\"><div class=\"sk-estimator sk-toggleable\"><input class=\"sk-toggleable__control sk-hidden--visually\" id=\"sk-estimator-id-33\" type=\"checkbox\" ><label for=\"sk-estimator-id-33\" class=\"sk-toggleable__label sk-toggleable__label-arrow\">AddNonZeroCount</label><div class=\"sk-toggleable__content\"><pre>AddNonZeroCount(prefix=&#x27;delta&#x27;)</pre></div></div></div><div class=\"sk-item\"><div class=\"sk-estimator sk-toggleable\"><input class=\"sk-toggleable__control sk-hidden--visually\" id=\"sk-estimator-id-34\" type=\"checkbox\" ><label for=\"sk-estimator-id-34\" class=\"sk-toggleable__label sk-toggleable__label-arrow\">CustomSum</label><div class=\"sk-toggleable__content\"><pre>CustomSum(prefix=&#x27;delta&#x27;)</pre></div></div></div><div class=\"sk-item\"><div class=\"sk-estimator sk-toggleable\"><input class=\"sk-toggleable__control sk-hidden--visually\" id=\"sk-estimator-id-35\" type=\"checkbox\" ><label for=\"sk-estimator-id-35\" class=\"sk-toggleable__label sk-toggleable__label-arrow\">AddNonZeroCount</label><div class=\"sk-toggleable__content\"><pre>AddNonZeroCount(prefix=&#x27;ind&#x27;)</pre></div></div></div><div class=\"sk-item\"><div class=\"sk-estimator sk-toggleable\"><input class=\"sk-toggleable__control sk-hidden--visually\" id=\"sk-estimator-id-36\" type=\"checkbox\" ><label for=\"sk-estimator-id-36\" class=\"sk-toggleable__label sk-toggleable__label-arrow\">AddNonZeroCount</label><div class=\"sk-toggleable__content\"><pre>AddNonZeroCount(prefix=&#x27;num&#x27;)</pre></div></div></div><div class=\"sk-item\"><div class=\"sk-estimator sk-toggleable\"><input class=\"sk-toggleable__control sk-hidden--visually\" id=\"sk-estimator-id-37\" type=\"checkbox\" ><label for=\"sk-estimator-id-37\" class=\"sk-toggleable__label sk-toggleable__label-arrow\">CustomSum</label><div class=\"sk-toggleable__content\"><pre>CustomSum(prefix=&#x27;num&#x27;)</pre></div></div></div><div class=\"sk-item\"><div class=\"sk-estimator sk-toggleable\"><input class=\"sk-toggleable__control sk-hidden--visually\" id=\"sk-estimator-id-38\" type=\"checkbox\" ><label for=\"sk-estimator-id-38\" class=\"sk-toggleable__label sk-toggleable__label-arrow\">CustomImputer</label><div class=\"sk-toggleable__content\"><pre>CustomImputer(prefix=&#x27;var3&#x27;, to_replace=-999999)</pre></div></div></div><div class=\"sk-item\"><div class=\"sk-estimator sk-toggleable\"><input class=\"sk-toggleable__control sk-hidden--visually\" id=\"sk-estimator-id-39\" type=\"checkbox\" ><label for=\"sk-estimator-id-39\" class=\"sk-toggleable__label sk-toggleable__label-arrow\">CustomEncoder</label><div class=\"sk-toggleable__content\"><pre>CustomEncoder(colname=&#x27;var36&#x27;)</pre></div></div></div><div class=\"sk-item\"><div class=\"sk-estimator sk-toggleable\"><input class=\"sk-toggleable__control sk-hidden--visually\" id=\"sk-estimator-id-40\" type=\"checkbox\" ><label for=\"sk-estimator-id-40\" class=\"sk-toggleable__label sk-toggleable__label-arrow\">CustomEncoder</label><div class=\"sk-toggleable__content\"><pre>CustomEncoder(colname=&#x27;var21&#x27;)</pre></div></div></div></div></div><div class=\"sk-item\"><div class=\"sk-estimator sk-toggleable\"><input class=\"sk-toggleable__control sk-hidden--visually\" id=\"sk-estimator-id-41\" type=\"checkbox\" ><label for=\"sk-estimator-id-41\" class=\"sk-toggleable__label sk-toggleable__label-arrow\">SimpleImputer</label><div class=\"sk-toggleable__content\"><pre>SimpleImputer(strategy=&#x27;median&#x27;)</pre></div></div></div></div></div><div class=\"sk-item\"><div class=\"sk-estimator sk-toggleable\"><input class=\"sk-toggleable__control sk-hidden--visually\" id=\"sk-estimator-id-42\" type=\"checkbox\" ><label for=\"sk-estimator-id-42\" class=\"sk-toggleable__label sk-toggleable__label-arrow\">RandomForestClassifier</label><div class=\"sk-toggleable__content\"><pre>RandomForestClassifier(max_depth=20)</pre></div></div></div></div></div></div></div>"
      ],
      "text/plain": [
       "Pipeline(steps=[('preprocessor',\n",
       "                 Pipeline(steps=[('prep',\n",
       "                                  Pipeline(steps=[('DropConstantColumns',\n",
       "                                                   DropConstantColumns(also=['ID'])),\n",
       "                                                  ('DropDuplicateColumns',\n",
       "                                                   DropDuplicateColumns()),\n",
       "                                                  ('NoneZeroCountSaldo',\n",
       "                                                   AddNonZeroCount(prefix='saldo')),\n",
       "                                                  ('SumSaldo',\n",
       "                                                   CustomSum(prefix='saldo')),\n",
       "                                                  ('NoneZeroCountImp',\n",
       "                                                   AddNonZeroCount(prefix='imp')),\n",
       "                                                  ('SumImp',\n",
       "                                                   CustomSum(prefix='...\n",
       "                                                  ('NonZeroCountNum',\n",
       "                                                   AddNonZeroCount(prefix='num')),\n",
       "                                                  ('SumNum',\n",
       "                                                   CustomSum(prefix='num')),\n",
       "                                                  ('ImputeNanVar3',\n",
       "                                                   CustomImputer(prefix='var3',\n",
       "                                                                 to_replace=-999999)),\n",
       "                                                  ('CustomEncoderVar36',\n",
       "                                                   CustomEncoder(colname='var36')),\n",
       "                                                  ('CustomEncoderVar21',\n",
       "                                                   CustomEncoder(colname='var21'))])),\n",
       "                                 ('nan', SimpleImputer(strategy='median'))])),\n",
       "                ('classifier', RandomForestClassifier(max_depth=20))])"
      ]
     },
     "execution_count": 10,
     "metadata": {},
     "output_type": "execute_result"
    }
   ],
   "source": [
    "rf_model.best_model_"
   ]
  },
  {
   "cell_type": "code",
   "execution_count": 8,
   "metadata": {},
   "outputs": [
    {
     "data": {
      "text/plain": [
       "{'Profit (Total)': 14150,\n",
       " 'Profit (per Customer)': 0.9306761378584583,\n",
       " 'False Negative Loss (Total)': 30060,\n",
       " 'False Negative Loss (per Customer)': 1.9771112865035516,\n",
       " 'False Positive Loss (Total)': 15910,\n",
       " 'False Positive Loss (per Customer)': 1.0464351486450933}"
      ]
     },
     "execution_count": 8,
     "metadata": {},
     "output_type": "execute_result"
    }
   ],
   "source": [
    "rf_model.business_metrics"
   ]
  },
  {
   "cell_type": "code",
   "execution_count": 9,
   "metadata": {},
   "outputs": [
    {
     "data": {
      "text/plain": [
       "{'Accuracy': 0.8777295448566167,\n",
       " 'Precision': 0.1735064935064935,\n",
       " 'Recall': 0.5548172757475083,\n",
       " 'F1': 0.26434507320933914,\n",
       " 'ROC AUC': 0.828402198579269,\n",
       " 'Classification Threshold': 0.09911002538370728}"
      ]
     },
     "execution_count": 9,
     "metadata": {},
     "output_type": "execute_result"
    }
   ],
   "source": [
    "rf_model.classification_metrics"
   ]
  }
 ],
 "metadata": {
  "kernelspec": {
   "display_name": "dmc-venv",
   "language": "python",
   "name": "python3"
  },
  "language_info": {
   "codemirror_mode": {
    "name": "ipython",
    "version": 3
   },
   "file_extension": ".py",
   "mimetype": "text/x-python",
   "name": "python",
   "nbconvert_exporter": "python",
   "pygments_lexer": "ipython3",
   "version": "3.10.12"
  },
  "orig_nbformat": 4
 },
 "nbformat": 4,
 "nbformat_minor": 2
}
