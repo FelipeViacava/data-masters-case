{
 "cells": [
  {
   "attachments": {},
   "cell_type": "markdown",
   "metadata": {},
   "source": [
    "# Data Masters: Case"
   ]
  },
  {
   "attachments": {},
   "cell_type": "markdown",
   "metadata": {},
   "source": [
    "## Bibliotecas"
   ]
  },
  {
   "cell_type": "code",
   "execution_count": 1,
   "metadata": {},
   "outputs": [],
   "source": [
    "# --- Data Exploration and Viz --- #\n",
    "import pandas as pd\n",
    "import numpy as np\n",
    "import matplotlib.pyplot as plt\n",
    "import seaborn as sns\n",
    "\n",
    "# --- Classification models --- #\n",
    "from sklearn.ensemble import \\\n",
    "    GradientBoostingClassifier, \\\n",
    "    RandomForestClassifier\n",
    "from sklearn.tree import DecisionTreeClassifier\n",
    "\n",
    "# --- Pipeline Building --- #\n",
    "from sklearn.pipeline import Pipeline\n",
    "from sklearn.compose import ColumnTransformer\n",
    "\n",
    "# --- Model Evaluation --- #\n",
    "#from resources.custommetrics import profit\n",
    "from sklearn.metrics import \\\n",
    "    roc_auc_score, \\\n",
    "    recall_score, \\\n",
    "    precision_score, \\\n",
    "    f1_score, \\\n",
    "    confusion_matrix\n",
    "\n",
    "# --- Tuning --- #\n",
    "from sklearn.model_selection import \\\n",
    "    GridSearchCV, \\\n",
    "    train_test_split\n",
    "\n",
    "# --- Preprocessing --- #\n",
    "from sklearn.preprocessing import \\\n",
    "    StandardScaler, \\\n",
    "    OrdinalEncoder, \\\n",
    "    FunctionTransformer\n",
    "\n",
    "from sklearn.impute import SimpleImputer\n",
    " \n",
    "from resources.customtransformers import \\\n",
    "    DropConstantColumns, \\\n",
    "    DropDuplicateColumns, \\\n",
    "    AddNoneCount, \\\n",
    "    AddNonZeroCount\n",
    "\n",
    "# --- Cluster Analysis --- #\n",
    "#from sklearn.decomposition import PCA\n",
    "#from sklearn.cluster import KMeans"
   ]
  },
  {
   "cell_type": "markdown",
   "metadata": {},
   "source": [
    "## Leitura dos dados"
   ]
  },
  {
   "cell_type": "code",
   "execution_count": 2,
   "metadata": {},
   "outputs": [],
   "source": [
    "train = pd.read_csv(\"data/train.csv\")\n",
    "test = pd.read_csv(\"data/test.csv\")\n",
    "train, validation = train_test_split(\n",
    "    train,\n",
    "    test_size=0.25,\n",
    "    random_state=42,\n",
    "    stratify=train[\"TARGET\"]\n",
    ")"
   ]
  },
  {
   "attachments": {},
   "cell_type": "markdown",
   "metadata": {},
   "source": [
    "## Definição dos pipelines de pré-processamento"
   ]
  },
  {
   "cell_type": "markdown",
   "metadata": {},
   "source": [
    "### Pipeline 1: Mantendo dados originais\n",
    "\n",
    "Este pipeline serve como um \"one size fits all\" para os passos seguintes. Como as missing features do conjunto de dados já foram preenchidas artificalmente, tratá-las para modelos de árvore não necessariamente trará melhora na performance, uma vez que o preenchimento é padronizado por prefixo e estes modelos lidam bem com relações não-lineares entre variáveis. Assim, a partir deste pipeline, podemos iniciar os testes de diferentes modelos baseados em árvores."
   ]
  },
  {
   "cell_type": "code",
   "execution_count": 3,
   "metadata": {},
   "outputs": [],
   "source": [
    "prep_01 = Pipeline(\n",
    "    steps=[\n",
    "        (\"dcc\", DropConstantColumns()),\n",
    "        (\"ddc\", DropDuplicateColumns()),\n",
    "        (\n",
    "            \"anc_delta\",\n",
    "            AddNoneCount(\n",
    "                prefix=\"delta\",\n",
    "                fake_value=9999999999\n",
    "            )\n",
    "        ),\n",
    "        (\"anzc_saldo\", AddNonZeroCount(prefix=\"saldo\")),\n",
    "        (\"anzc_imp\", AddNonZeroCount(prefix=\"imp\")),\n",
    "        (\"anzc_delta\", AddNonZeroCount(prefix=\"delta\")),\n",
    "        (\"anzc_ind\", AddNonZeroCount(prefix=\"ind\")),\n",
    "        (\n",
    "            \"col_specific\",\n",
    "            ColumnTransformer(\n",
    "                [\n",
    "                    (\n",
    "                        \"ord_encoders\",\n",
    "                        OrdinalEncoder(\n",
    "                            handle_unknown=\"use_encoded_value\",\n",
    "                            unknown_value=-1,\n",
    "                            encoded_missing_value=-1,\n",
    "                            min_frequency=40\n",
    "                        ),\n",
    "                        [\"var36\",\"var21\"]                    \n",
    "                    )\n",
    "                ],\n",
    "                remainder=\"passthrough\"\n",
    "            )\n",
    "        )\n",
    "    ]\n",
    ")"
   ]
  },
  {
   "cell_type": "markdown",
   "metadata": {},
   "source": [
    "### Pipeline 2: Imputando NaN com mediana\n",
    "\n",
    "No caso das variáveis delta, temos dados extremamente esparsos. Assim, optou-se por imputar os valores faltantes com a mediana, uma vez que a média seria aftetada por outliers. Essencialmente, estamos preenchendo estes valores com 0 e colocando-os no mesmo \"grupo\" que a maioria das observações."
   ]
  },
  {
   "cell_type": "code",
   "execution_count": 4,
   "metadata": {},
   "outputs": [],
   "source": [
    "prep_02 = Pipeline(\n",
    "    steps=[\n",
    "        (\"dcc\", DropConstantColumns()),\n",
    "        (\"ddc\", DropDuplicateColumns()),\n",
    "        (\n",
    "            \"anc_delta\",\n",
    "            AddNoneCount(\n",
    "                prefix=\"delta\",\n",
    "                fake_value=9999999999\n",
    "            )\n",
    "        ),\n",
    "        (\n",
    "            \"impute_nan_delta\",\n",
    "            SimpleImputer(\n",
    "                missing_values=9999999999,\n",
    "                strategy=\"median\"\n",
    "            )\n",
    "        ),\n",
    "        (\n",
    "            \"impute_nan_var3_transformer\",\n",
    "            ColumnTransformer(\n",
    "                (\n",
    "                    \"impute_nan_var3\",\n",
    "                    SimpleImputer(\n",
    "                        missing_values=-999999,\n",
    "                        strategy=\"constant\",\n",
    "                        fill_value=None\n",
    "                    ),\n",
    "                    \"var3\"\n",
    "                ),\n",
    "                remainder=\"passthrough\"\n",
    "            )\n",
    "        ),\n",
    "        (\"anzc_saldo\", AddNonZeroCount(prefix=\"saldo\")),\n",
    "        (\"anzc_imp\", AddNonZeroCount(prefix=\"imp\")),\n",
    "        (\"anzc_delta\", AddNonZeroCount(prefix=\"delta\")),\n",
    "        (\"anzc_ind\", AddNonZeroCount(prefix=\"ind\")),\n",
    "        (\n",
    "            \"col_specific\",\n",
    "            ColumnTransformer(\n",
    "                [\n",
    "                    (\n",
    "                        \"ord_encoders\",\n",
    "                        OrdinalEncoder(\n",
    "                            handle_unknown=\"use_encoded_value\",\n",
    "                            unknown_value=-1,\n",
    "                            encoded_missing_value=-1,\n",
    "                            min_frequency=40\n",
    "                        ),\n",
    "                        [\"var36\",\"var21\"]                \n",
    "                    )\n",
    "                ],\n",
    "                remainder=\"passthrough\"\n",
    "            )\n",
    "        )\n",
    "    ]\n",
    ")"
   ]
  },
  {
   "cell_type": "markdown",
   "metadata": {},
   "source": [
    "## Definição da métrica\n",
    "\n",
    "Os modelos (com excessão de uma árvore simples inicial) passaram por validação cruzada para hiperparametrização buscando maximizar a AUC -- métrica que, de modo geral, indica quão bem o modelo consegue separar as classes da variável \"TARGET\" ao comparar as estimativas com os valores reais com diferentes cortes de classificação. O corte de classificação, por sua vez, foi ajustado sobre o modelo campeão (com a maior AUC) com base na métrica sugerida pelo enunciado deste trabalho, ou seja, pela soma de falsos positivos * -10 e  verdadeiros positivos * 90, buscando maximizar o lucro do banco sobre a ação sobre um dataset de validação."
   ]
  },
  {
   "cell_type": "code",
   "execution_count": 5,
   "metadata": {},
   "outputs": [],
   "source": [
    "def profit(y_true, y_pred_proba, threshold):\n",
    "    y_pred = (y_pred_proba[:,1] >= threshold).astype(int)\n",
    "    fp = np.sum((y_pred == 1) & (y_true == 0))\n",
    "    tp = np.sum((y_pred == 1) & (y_true == 1))\n",
    "    n = len(y_true)\n",
    "    return (fp * -10 + tp * 90) / n"
   ]
  },
  {
   "cell_type": "markdown",
   "metadata": {},
   "source": [
    "## Avaliação dos modelos"
   ]
  },
  {
   "cell_type": "markdown",
   "metadata": {},
   "source": [
    "### Modelo base: árvore de classificação\n",
    "\n",
    "Aqui definimos um ponto de partida para os modelos de classificação. Foi escolhida a árvore de classificação pois esta servirá como base dos dois outros algorítmos testados (Random Forest e Gradient Boosting). Este modelo não passa por gridsearch e seu resultado é considerado o mínimo a ser batido pelos outros modelos. "
   ]
  },
  {
   "cell_type": "code",
   "execution_count": 7,
   "metadata": {},
   "outputs": [
    {
     "data": {
      "text/html": [
       "<style>#sk-container-id-2 {color: black;}#sk-container-id-2 pre{padding: 0;}#sk-container-id-2 div.sk-toggleable {background-color: white;}#sk-container-id-2 label.sk-toggleable__label {cursor: pointer;display: block;width: 100%;margin-bottom: 0;padding: 0.3em;box-sizing: border-box;text-align: center;}#sk-container-id-2 label.sk-toggleable__label-arrow:before {content: \"▸\";float: left;margin-right: 0.25em;color: #696969;}#sk-container-id-2 label.sk-toggleable__label-arrow:hover:before {color: black;}#sk-container-id-2 div.sk-estimator:hover label.sk-toggleable__label-arrow:before {color: black;}#sk-container-id-2 div.sk-toggleable__content {max-height: 0;max-width: 0;overflow: hidden;text-align: left;background-color: #f0f8ff;}#sk-container-id-2 div.sk-toggleable__content pre {margin: 0.2em;color: black;border-radius: 0.25em;background-color: #f0f8ff;}#sk-container-id-2 input.sk-toggleable__control:checked~div.sk-toggleable__content {max-height: 200px;max-width: 100%;overflow: auto;}#sk-container-id-2 input.sk-toggleable__control:checked~label.sk-toggleable__label-arrow:before {content: \"▾\";}#sk-container-id-2 div.sk-estimator input.sk-toggleable__control:checked~label.sk-toggleable__label {background-color: #d4ebff;}#sk-container-id-2 div.sk-label input.sk-toggleable__control:checked~label.sk-toggleable__label {background-color: #d4ebff;}#sk-container-id-2 input.sk-hidden--visually {border: 0;clip: rect(1px 1px 1px 1px);clip: rect(1px, 1px, 1px, 1px);height: 1px;margin: -1px;overflow: hidden;padding: 0;position: absolute;width: 1px;}#sk-container-id-2 div.sk-estimator {font-family: monospace;background-color: #f0f8ff;border: 1px dotted black;border-radius: 0.25em;box-sizing: border-box;margin-bottom: 0.5em;}#sk-container-id-2 div.sk-estimator:hover {background-color: #d4ebff;}#sk-container-id-2 div.sk-parallel-item::after {content: \"\";width: 100%;border-bottom: 1px solid gray;flex-grow: 1;}#sk-container-id-2 div.sk-label:hover label.sk-toggleable__label {background-color: #d4ebff;}#sk-container-id-2 div.sk-serial::before {content: \"\";position: absolute;border-left: 1px solid gray;box-sizing: border-box;top: 0;bottom: 0;left: 50%;z-index: 0;}#sk-container-id-2 div.sk-serial {display: flex;flex-direction: column;align-items: center;background-color: white;padding-right: 0.2em;padding-left: 0.2em;position: relative;}#sk-container-id-2 div.sk-item {position: relative;z-index: 1;}#sk-container-id-2 div.sk-parallel {display: flex;align-items: stretch;justify-content: center;background-color: white;position: relative;}#sk-container-id-2 div.sk-item::before, #sk-container-id-2 div.sk-parallel-item::before {content: \"\";position: absolute;border-left: 1px solid gray;box-sizing: border-box;top: 0;bottom: 0;left: 50%;z-index: -1;}#sk-container-id-2 div.sk-parallel-item {display: flex;flex-direction: column;z-index: 1;position: relative;background-color: white;}#sk-container-id-2 div.sk-parallel-item:first-child::after {align-self: flex-end;width: 50%;}#sk-container-id-2 div.sk-parallel-item:last-child::after {align-self: flex-start;width: 50%;}#sk-container-id-2 div.sk-parallel-item:only-child::after {width: 0;}#sk-container-id-2 div.sk-dashed-wrapped {border: 1px dashed gray;margin: 0 0.4em 0.5em 0.4em;box-sizing: border-box;padding-bottom: 0.4em;background-color: white;}#sk-container-id-2 div.sk-label label {font-family: monospace;font-weight: bold;display: inline-block;line-height: 1.2em;}#sk-container-id-2 div.sk-label-container {text-align: center;}#sk-container-id-2 div.sk-container {/* jupyter's `normalize.less` sets `[hidden] { display: none; }` but bootstrap.min.css set `[hidden] { display: none !important; }` so we also need the `!important` here to be able to override the default hidden behavior on the sphinx rendered scikit-learn.org. See: https://github.com/scikit-learn/scikit-learn/issues/21755 */display: inline-block !important;position: relative;}#sk-container-id-2 div.sk-text-repr-fallback {display: none;}</style><div id=\"sk-container-id-2\" class=\"sk-top-container\"><div class=\"sk-text-repr-fallback\"><pre>Pipeline(steps=[(&#x27;preprocessing&#x27;,\n",
       "                 Pipeline(steps=[(&#x27;dcc&#x27;, DropConstantColumns()),\n",
       "                                 (&#x27;ddc&#x27;, DropDuplicateColumns()),\n",
       "                                 (&#x27;anc_delta&#x27;,\n",
       "                                  AddNoneCount(fake_value=9999999999,\n",
       "                                               prefix=&#x27;delta&#x27;)),\n",
       "                                 (&#x27;anzc_saldo&#x27;,\n",
       "                                  AddNonZeroCount(prefix=&#x27;saldo&#x27;)),\n",
       "                                 (&#x27;anzc_imp&#x27;, AddNonZeroCount(prefix=&#x27;imp&#x27;)),\n",
       "                                 (&#x27;anzc_delta&#x27;,\n",
       "                                  AddNonZeroCount(prefix=&#x27;delta&#x27;)),\n",
       "                                 (&#x27;anzc_ind&#x27;, AddNonZeroCount(prefix=&#x27;ind&#x27;)),\n",
       "                                 (&#x27;col_specific&#x27;,\n",
       "                                  ColumnTransformer(remainder=&#x27;passthrough&#x27;,\n",
       "                                                    transformers=[(&#x27;ord_encoders&#x27;,\n",
       "                                                                   OrdinalEncoder(encoded_missing_value=-1,\n",
       "                                                                                  handle_unknown=&#x27;use_encoded_value&#x27;,\n",
       "                                                                                  min_frequency=40,\n",
       "                                                                                  unknown_value=-1),\n",
       "                                                                   [&#x27;var36&#x27;,\n",
       "                                                                    &#x27;var21&#x27;])]))])),\n",
       "                (&#x27;clf&#x27;, DecisionTreeClassifier())])</pre><b>In a Jupyter environment, please rerun this cell to show the HTML representation or trust the notebook. <br />On GitHub, the HTML representation is unable to render, please try loading this page with nbviewer.org.</b></div><div class=\"sk-container\" hidden><div class=\"sk-item sk-dashed-wrapped\"><div class=\"sk-label-container\"><div class=\"sk-label sk-toggleable\"><input class=\"sk-toggleable__control sk-hidden--visually\" id=\"sk-estimator-id-16\" type=\"checkbox\" ><label for=\"sk-estimator-id-16\" class=\"sk-toggleable__label sk-toggleable__label-arrow\">Pipeline</label><div class=\"sk-toggleable__content\"><pre>Pipeline(steps=[(&#x27;preprocessing&#x27;,\n",
       "                 Pipeline(steps=[(&#x27;dcc&#x27;, DropConstantColumns()),\n",
       "                                 (&#x27;ddc&#x27;, DropDuplicateColumns()),\n",
       "                                 (&#x27;anc_delta&#x27;,\n",
       "                                  AddNoneCount(fake_value=9999999999,\n",
       "                                               prefix=&#x27;delta&#x27;)),\n",
       "                                 (&#x27;anzc_saldo&#x27;,\n",
       "                                  AddNonZeroCount(prefix=&#x27;saldo&#x27;)),\n",
       "                                 (&#x27;anzc_imp&#x27;, AddNonZeroCount(prefix=&#x27;imp&#x27;)),\n",
       "                                 (&#x27;anzc_delta&#x27;,\n",
       "                                  AddNonZeroCount(prefix=&#x27;delta&#x27;)),\n",
       "                                 (&#x27;anzc_ind&#x27;, AddNonZeroCount(prefix=&#x27;ind&#x27;)),\n",
       "                                 (&#x27;col_specific&#x27;,\n",
       "                                  ColumnTransformer(remainder=&#x27;passthrough&#x27;,\n",
       "                                                    transformers=[(&#x27;ord_encoders&#x27;,\n",
       "                                                                   OrdinalEncoder(encoded_missing_value=-1,\n",
       "                                                                                  handle_unknown=&#x27;use_encoded_value&#x27;,\n",
       "                                                                                  min_frequency=40,\n",
       "                                                                                  unknown_value=-1),\n",
       "                                                                   [&#x27;var36&#x27;,\n",
       "                                                                    &#x27;var21&#x27;])]))])),\n",
       "                (&#x27;clf&#x27;, DecisionTreeClassifier())])</pre></div></div></div><div class=\"sk-serial\"><div class=\"sk-item\"><div class=\"sk-label-container\"><div class=\"sk-label sk-toggleable\"><input class=\"sk-toggleable__control sk-hidden--visually\" id=\"sk-estimator-id-17\" type=\"checkbox\" ><label for=\"sk-estimator-id-17\" class=\"sk-toggleable__label sk-toggleable__label-arrow\">preprocessing: Pipeline</label><div class=\"sk-toggleable__content\"><pre>Pipeline(steps=[(&#x27;dcc&#x27;, DropConstantColumns()), (&#x27;ddc&#x27;, DropDuplicateColumns()),\n",
       "                (&#x27;anc_delta&#x27;,\n",
       "                 AddNoneCount(fake_value=9999999999, prefix=&#x27;delta&#x27;)),\n",
       "                (&#x27;anzc_saldo&#x27;, AddNonZeroCount(prefix=&#x27;saldo&#x27;)),\n",
       "                (&#x27;anzc_imp&#x27;, AddNonZeroCount(prefix=&#x27;imp&#x27;)),\n",
       "                (&#x27;anzc_delta&#x27;, AddNonZeroCount(prefix=&#x27;delta&#x27;)),\n",
       "                (&#x27;anzc_ind&#x27;, AddNonZeroCount(prefix=&#x27;ind&#x27;)),\n",
       "                (&#x27;col_specific&#x27;,\n",
       "                 ColumnTransformer(remainder=&#x27;passthrough&#x27;,\n",
       "                                   transformers=[(&#x27;ord_encoders&#x27;,\n",
       "                                                  OrdinalEncoder(encoded_missing_value=-1,\n",
       "                                                                 handle_unknown=&#x27;use_encoded_value&#x27;,\n",
       "                                                                 min_frequency=40,\n",
       "                                                                 unknown_value=-1),\n",
       "                                                  [&#x27;var36&#x27;, &#x27;var21&#x27;])]))])</pre></div></div></div><div class=\"sk-serial\"><div class=\"sk-item\"><div class=\"sk-estimator sk-toggleable\"><input class=\"sk-toggleable__control sk-hidden--visually\" id=\"sk-estimator-id-18\" type=\"checkbox\" ><label for=\"sk-estimator-id-18\" class=\"sk-toggleable__label sk-toggleable__label-arrow\">DropConstantColumns</label><div class=\"sk-toggleable__content\"><pre>DropConstantColumns()</pre></div></div></div><div class=\"sk-item\"><div class=\"sk-estimator sk-toggleable\"><input class=\"sk-toggleable__control sk-hidden--visually\" id=\"sk-estimator-id-19\" type=\"checkbox\" ><label for=\"sk-estimator-id-19\" class=\"sk-toggleable__label sk-toggleable__label-arrow\">DropDuplicateColumns</label><div class=\"sk-toggleable__content\"><pre>DropDuplicateColumns()</pre></div></div></div><div class=\"sk-item\"><div class=\"sk-estimator sk-toggleable\"><input class=\"sk-toggleable__control sk-hidden--visually\" id=\"sk-estimator-id-20\" type=\"checkbox\" ><label for=\"sk-estimator-id-20\" class=\"sk-toggleable__label sk-toggleable__label-arrow\">AddNoneCount</label><div class=\"sk-toggleable__content\"><pre>AddNoneCount(fake_value=9999999999, prefix=&#x27;delta&#x27;)</pre></div></div></div><div class=\"sk-item\"><div class=\"sk-estimator sk-toggleable\"><input class=\"sk-toggleable__control sk-hidden--visually\" id=\"sk-estimator-id-21\" type=\"checkbox\" ><label for=\"sk-estimator-id-21\" class=\"sk-toggleable__label sk-toggleable__label-arrow\">AddNonZeroCount</label><div class=\"sk-toggleable__content\"><pre>AddNonZeroCount(prefix=&#x27;saldo&#x27;)</pre></div></div></div><div class=\"sk-item\"><div class=\"sk-estimator sk-toggleable\"><input class=\"sk-toggleable__control sk-hidden--visually\" id=\"sk-estimator-id-22\" type=\"checkbox\" ><label for=\"sk-estimator-id-22\" class=\"sk-toggleable__label sk-toggleable__label-arrow\">AddNonZeroCount</label><div class=\"sk-toggleable__content\"><pre>AddNonZeroCount(prefix=&#x27;imp&#x27;)</pre></div></div></div><div class=\"sk-item\"><div class=\"sk-estimator sk-toggleable\"><input class=\"sk-toggleable__control sk-hidden--visually\" id=\"sk-estimator-id-23\" type=\"checkbox\" ><label for=\"sk-estimator-id-23\" class=\"sk-toggleable__label sk-toggleable__label-arrow\">AddNonZeroCount</label><div class=\"sk-toggleable__content\"><pre>AddNonZeroCount(prefix=&#x27;delta&#x27;)</pre></div></div></div><div class=\"sk-item\"><div class=\"sk-estimator sk-toggleable\"><input class=\"sk-toggleable__control sk-hidden--visually\" id=\"sk-estimator-id-24\" type=\"checkbox\" ><label for=\"sk-estimator-id-24\" class=\"sk-toggleable__label sk-toggleable__label-arrow\">AddNonZeroCount</label><div class=\"sk-toggleable__content\"><pre>AddNonZeroCount(prefix=&#x27;ind&#x27;)</pre></div></div></div><div class=\"sk-item sk-dashed-wrapped\"><div class=\"sk-label-container\"><div class=\"sk-label sk-toggleable\"><input class=\"sk-toggleable__control sk-hidden--visually\" id=\"sk-estimator-id-25\" type=\"checkbox\" ><label for=\"sk-estimator-id-25\" class=\"sk-toggleable__label sk-toggleable__label-arrow\">col_specific: ColumnTransformer</label><div class=\"sk-toggleable__content\"><pre>ColumnTransformer(remainder=&#x27;passthrough&#x27;,\n",
       "                  transformers=[(&#x27;ord_encoders&#x27;,\n",
       "                                 OrdinalEncoder(encoded_missing_value=-1,\n",
       "                                                handle_unknown=&#x27;use_encoded_value&#x27;,\n",
       "                                                min_frequency=40,\n",
       "                                                unknown_value=-1),\n",
       "                                 [&#x27;var36&#x27;, &#x27;var21&#x27;])])</pre></div></div></div><div class=\"sk-parallel\"><div class=\"sk-parallel-item\"><div class=\"sk-item\"><div class=\"sk-label-container\"><div class=\"sk-label sk-toggleable\"><input class=\"sk-toggleable__control sk-hidden--visually\" id=\"sk-estimator-id-26\" type=\"checkbox\" ><label for=\"sk-estimator-id-26\" class=\"sk-toggleable__label sk-toggleable__label-arrow\">ord_encoders</label><div class=\"sk-toggleable__content\"><pre>[&#x27;var36&#x27;, &#x27;var21&#x27;]</pre></div></div></div><div class=\"sk-serial\"><div class=\"sk-item\"><div class=\"sk-estimator sk-toggleable\"><input class=\"sk-toggleable__control sk-hidden--visually\" id=\"sk-estimator-id-27\" type=\"checkbox\" ><label for=\"sk-estimator-id-27\" class=\"sk-toggleable__label sk-toggleable__label-arrow\">OrdinalEncoder</label><div class=\"sk-toggleable__content\"><pre>OrdinalEncoder(encoded_missing_value=-1, handle_unknown=&#x27;use_encoded_value&#x27;,\n",
       "               min_frequency=40, unknown_value=-1)</pre></div></div></div></div></div></div><div class=\"sk-parallel-item\"><div class=\"sk-item\"><div class=\"sk-label-container\"><div class=\"sk-label sk-toggleable\"><input class=\"sk-toggleable__control sk-hidden--visually\" id=\"sk-estimator-id-28\" type=\"checkbox\" ><label for=\"sk-estimator-id-28\" class=\"sk-toggleable__label sk-toggleable__label-arrow\">remainder</label><div class=\"sk-toggleable__content\"><pre></pre></div></div></div><div class=\"sk-serial\"><div class=\"sk-item\"><div class=\"sk-estimator sk-toggleable\"><input class=\"sk-toggleable__control sk-hidden--visually\" id=\"sk-estimator-id-29\" type=\"checkbox\" ><label for=\"sk-estimator-id-29\" class=\"sk-toggleable__label sk-toggleable__label-arrow\">passthrough</label><div class=\"sk-toggleable__content\"><pre>passthrough</pre></div></div></div></div></div></div></div></div></div></div><div class=\"sk-item\"><div class=\"sk-estimator sk-toggleable\"><input class=\"sk-toggleable__control sk-hidden--visually\" id=\"sk-estimator-id-30\" type=\"checkbox\" ><label for=\"sk-estimator-id-30\" class=\"sk-toggleable__label sk-toggleable__label-arrow\">DecisionTreeClassifier</label><div class=\"sk-toggleable__content\"><pre>DecisionTreeClassifier()</pre></div></div></div></div></div></div></div>"
      ],
      "text/plain": [
       "Pipeline(steps=[('preprocessing',\n",
       "                 Pipeline(steps=[('dcc', DropConstantColumns()),\n",
       "                                 ('ddc', DropDuplicateColumns()),\n",
       "                                 ('anc_delta',\n",
       "                                  AddNoneCount(fake_value=9999999999,\n",
       "                                               prefix='delta')),\n",
       "                                 ('anzc_saldo',\n",
       "                                  AddNonZeroCount(prefix='saldo')),\n",
       "                                 ('anzc_imp', AddNonZeroCount(prefix='imp')),\n",
       "                                 ('anzc_delta',\n",
       "                                  AddNonZeroCount(prefix='delta')),\n",
       "                                 ('anzc_ind', AddNonZeroCount(prefix='ind')),\n",
       "                                 ('col_specific',\n",
       "                                  ColumnTransformer(remainder='passthrough',\n",
       "                                                    transformers=[('ord_encoders',\n",
       "                                                                   OrdinalEncoder(encoded_missing_value=-1,\n",
       "                                                                                  handle_unknown='use_encoded_value',\n",
       "                                                                                  min_frequency=40,\n",
       "                                                                                  unknown_value=-1),\n",
       "                                                                   ['var36',\n",
       "                                                                    'var21'])]))])),\n",
       "                ('clf', DecisionTreeClassifier())])"
      ]
     },
     "execution_count": 7,
     "metadata": {},
     "output_type": "execute_result"
    }
   ],
   "source": [
    "simple_tree = Pipeline(\n",
    "    steps=[\n",
    "        (\"preprocessing\", prep_01),\n",
    "        (\"clf\", DecisionTreeClassifier())\n",
    "    ]\n",
    ")\n",
    "\n",
    "simple_tree"
   ]
  },
  {
   "cell_type": "code",
   "execution_count": 8,
   "metadata": {},
   "outputs": [],
   "source": [
    "simple_tree = simple_tree \\\n",
    "    .fit(\n",
    "        train.drop([\"ID\",\"TARGET\"], axis=1),\n",
    "        train[\"TARGET\"]\n",
    "    )"
   ]
  },
  {
   "cell_type": "code",
   "execution_count": 9,
   "metadata": {},
   "outputs": [],
   "source": [
    "y_pred = simple_tree \\\n",
    "    .predict_proba(\n",
    "        validation.drop([\"ID\",\"TARGET\"], axis=1)\n",
    "    )"
   ]
  },
  {
   "cell_type": "code",
   "execution_count": null,
   "metadata": {},
   "outputs": [],
   "source": []
  },
  {
   "cell_type": "code",
   "execution_count": null,
   "metadata": {},
   "outputs": [],
   "source": [
    "class FitTuneEval():\n",
    "    def __init__(self, pipeline, target=\"TARGET\", ignore=[]):\n",
    "        self.pipeline = pipeline\n",
    "        self.target = target\n",
    "        self.ignore = ignore\n",
    "        pass\n",
    "\n",
    "    def fit(self, X):\n",
    "        train, validation = train_test_split(\n",
    "            train,\n",
    "            test_size=.25,\n",
    "            random_state=42,\n",
    "            stratify=train[self.target]\n",
    "        )\n",
    "        self.pipeline = self.pipeline.fit(\n",
    "            train.drop(self.ignore+self.target, axis=1),\n",
    "            train[self.target]\n",
    "        )"
   ]
  },
  {
   "cell_type": "code",
   "execution_count": 22,
   "metadata": {},
   "outputs": [],
   "source": []
  },
  {
   "cell_type": "code",
   "execution_count": 23,
   "metadata": {},
   "outputs": [],
   "source": [
    "y_true = validation[\"TARGET\"]"
   ]
  },
  {
   "cell_type": "code",
   "execution_count": 25,
   "metadata": {},
   "outputs": [
    {
     "data": {
      "text/plain": [
       "0.2170481452249408"
      ]
     },
     "execution_count": 25,
     "metadata": {},
     "output_type": "execute_result"
    }
   ],
   "source": [
    "profit(y_true, y_pred)"
   ]
  },
  {
   "cell_type": "code",
   "execution_count": null,
   "metadata": {},
   "outputs": [],
   "source": []
  },
  {
   "cell_type": "code",
   "execution_count": 126,
   "metadata": {},
   "outputs": [],
   "source": [
    "def predict_probability(X, model):\n",
    "    return model.predict_proba(X)[:,1]\n",
    "\n",
    "def make_result_df(y,y_pred):\n",
    "    df = y.reset_index()\n",
    "    df[\"prob\"] = y_pred\n",
    "    df[\"pred\"] = y_pred\n",
    "    return df\n",
    "\n",
    "def predict_class(y, c):\n",
    "    y[\"pred\"] = y[\"prob\"].apply(lambda x: 1 if x >= c else 0)\n",
    "    return y\n",
    "\n",
    "def evaluate(df, c):\n",
    "    tn, fp, fn, tp = confusion_matrix(\n",
    "        df[\"TARGET\"],\n",
    "        predict_class(df, c)[\"pred\"],\n",
    "    ).ravel()\n",
    "    return (tn*0+fp*(-10)+fn*0+tp*(100-10))/len(df)\n",
    "\n",
    "def select_threshold(X, y):\n",
    "    y_pred = predict_probability(X, gscv)\n",
    "    df = make_result_df(y,y_pred)\n",
    "\n",
    "    thresh_scores = [[i/100, 0] for i in range(101)]\n",
    "\n",
    "    for i in range(len(thresh_scores)):\n",
    "        c = thresh_scores[i][0]\n",
    "        thresh_scores[i][1] = evaluate(df,c)\n",
    "\n",
    "    thresh_scores = pd.DataFrame(thresh_scores,columns=[\"Threshold\", \"Profit\"])\n",
    "\n",
    "    best_threshold = thresh_scores.iloc[\n",
    "        thresh_scores.Profit.idxmax()\n",
    "    ].Threshold\n",
    "\n",
    "    return best_threshold"
   ]
  }
 ],
 "metadata": {
  "kernelspec": {
   "display_name": "dmc-venv",
   "language": "python",
   "name": "python3"
  },
  "language_info": {
   "codemirror_mode": {
    "name": "ipython",
    "version": 3
   },
   "file_extension": ".py",
   "mimetype": "text/x-python",
   "name": "python",
   "nbconvert_exporter": "python",
   "pygments_lexer": "ipython3",
   "version": "3.10.6"
  },
  "orig_nbformat": 4
 },
 "nbformat": 4,
 "nbformat_minor": 2
}
