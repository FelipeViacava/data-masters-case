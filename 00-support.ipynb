{
 "cells": [
  {
   "cell_type": "code",
   "execution_count": null,
   "metadata": {},
   "outputs": [],
   "source": [
    "#| label: classdrop\n",
    "#| eval: false\n",
    "#| echo: true\n",
    "#| code-overflow: wrap\n",
    "#| code-summary: \"Código\"\n",
    "#| code-fold: show\n",
    "class DropConstantColumns(BaseEstimator, TransformerMixin):\n",
    "    \"\"\"\n",
    "    This class is made to work as a step in sklearn.pipeline.Pipeline object.\n",
    "    It drops constant columns from a pandas dataframe object.\n",
    "    Important: the constant columns are found in the fit function and dropped in the transform function.\n",
    "    \"\"\"\n",
    "    def __init__(self, print_cols: bool = False, also: list[str] = []) -> None:\n",
    "        \"\"\"\n",
    "        print_cols: default = False. Determine whether the fit function should print the constant columns' names.\n",
    "        ignore: list of columns to ignore.\n",
    "        Initiates the class.\n",
    "        \"\"\"\n",
    "        self.print_cols = print_cols\n",
    "        self.also = also\n",
    "        pass\n",
    "\n",
    "    def fit(self, X: pd.DataFrame , y: None = None) -> None:\n",
    "        \"\"\"\n",
    "        X: dataset whose constant columns should be removed.\n",
    "        y: Shouldn't be used. Only exists to prevent raise Exception due to accidental input in a pipeline.\n",
    "        Creates class atributte with the names of the columns to be removed in the transform function.\n",
    "        \"\"\"\n",
    "        self.constant_cols = [\n",
    "            col\n",
    "            for col in X.columns\n",
    "            if (\n",
    "                (X[col].nunique() == 1)\n",
    "                | (col in self.also)\n",
    "            )\n",
    "        ]\n",
    "        if self.print_cols:\n",
    "            print(f\"{len(self.constant_cols)} constant columns were found.\")\n",
    "        return self\n",
    "    \n",
    "    def transform(self, X: pd.DataFrame) -> pd.DataFrame:\n",
    "        \"\"\"\n",
    "        X: dataset whose constant columns should be removed.\n",
    "        Returns dataset without the constant columns found in the fit function.\n",
    "        \"\"\"\n",
    "        return X.copy().drop(self.constant_cols, axis=1)"
   ]
  }
 ],
 "metadata": {
  "language_info": {
   "name": "python"
  },
  "orig_nbformat": 4
 },
 "nbformat": 4,
 "nbformat_minor": 2
}
