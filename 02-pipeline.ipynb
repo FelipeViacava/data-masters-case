{
 "cells": [
  {
   "attachments": {},
   "cell_type": "markdown",
   "metadata": {},
   "source": [
    "# Data Masters: Case"
   ]
  },
  {
   "attachments": {},
   "cell_type": "markdown",
   "metadata": {},
   "source": [
    "## Bibliotecas"
   ]
  },
  {
   "cell_type": "code",
   "execution_count": 176,
   "metadata": {},
   "outputs": [],
   "source": [
    "# --- Data Exploration --- #\n",
    "import numpy as np\n",
    "import pandas as pd\n",
    "\n",
    "# --- Classification model --- #\n",
    "from sklearn.ensemble import GradientBoostingClassifier\n",
    "\n",
    "# --- Model Evaluation --- #\n",
    "from sklearn.metrics import auc, confusion_matrix, roc_auc_score\n",
    "\n",
    "# --- Pipeline Building --- #\n",
    "from sklearn.pipeline import Pipeline\n",
    "from sklearn.model_selection import train_test_split, GridSearchCV\n",
    "from sklearn.compose import ColumnTransformer\n",
    "\n",
    "# --- Cluster Analysis --- #\n",
    "from sklearn.decomposition import PCA\n",
    "from sklearn.cluster import KMeans\n",
    "\n",
    "# --- Preprocessing --- #\n",
    "from sklearn.preprocessing import StandardScaler\n",
    "\n",
    "# --- Custom Libs --- #\n",
    "from resources.utils import ColumnDropper\n",
    "\n",
    "# --- Viz --- #\n",
    "import matplotlib.pyplot as plt\n",
    "import seaborn as sns"
   ]
  },
  {
   "attachments": {},
   "cell_type": "markdown",
   "metadata": {},
   "source": [
    "## Pipeline de Classificação"
   ]
  },
  {
   "cell_type": "code",
   "execution_count": 2,
   "metadata": {},
   "outputs": [],
   "source": [
    "with open(\"resources/drop_cols.txt\") as f:\n",
    "    drop_cols = [line.rstrip(\"\\n\") for line in f]"
   ]
  },
  {
   "cell_type": "code",
   "execution_count": 3,
   "metadata": {},
   "outputs": [],
   "source": [
    "main_pipeline = Pipeline(\n",
    "    steps=[\n",
    "        (\"ColDrop\", ColumnDropper(drop_cols)),\n",
    "        (\"clf\", GradientBoostingClassifier())\n",
    "    ]\n",
    ")"
   ]
  },
  {
   "cell_type": "code",
   "execution_count": 4,
   "metadata": {},
   "outputs": [],
   "source": [
    "param_grid = {\n",
    "    \"clf__n_estimators\": [80, 100, 200],\n",
    "    \"clf__learning_rate\": [.01, .1, 1],\n",
    "    \"clf__max_depth\": [4, 6, 8]\n",
    "}"
   ]
  },
  {
   "cell_type": "code",
   "execution_count": 5,
   "metadata": {},
   "outputs": [],
   "source": [
    "gscv = GridSearchCV(\n",
    "    main_pipeline,\n",
    "    param_grid=param_grid,\n",
    "    scoring=\"roc_auc\",\n",
    "    n_jobs=14,\n",
    "    error_score=\"raise\"\n",
    ")"
   ]
  },
  {
   "cell_type": "markdown",
   "metadata": {},
   "source": [
    "## Fit"
   ]
  },
  {
   "cell_type": "code",
   "execution_count": 140,
   "metadata": {},
   "outputs": [],
   "source": [
    "df = pd.read_csv(\"data/train.csv\")\n",
    "X = df.set_index(\"ID\")\n",
    "y = df.set_index(\"ID\")[\"TARGET\"]\n",
    "\n",
    "X_train, X_test, y_train, y_test = train_test_split(\n",
    "    X,\n",
    "    y,\n",
    "    test_size=0.2,\n",
    "    random_state=42,\n",
    "    stratify=y\n",
    ")\n",
    "\n",
    "X_train = X_train.drop(\"TARGET\", axis=1)\n",
    "X_test = X_test.drop(\"TARGET\", axis=1)"
   ]
  },
  {
   "cell_type": "code",
   "execution_count": 7,
   "metadata": {},
   "outputs": [],
   "source": [
    "gscv = gscv.fit(X_train,y_train)"
   ]
  },
  {
   "cell_type": "code",
   "execution_count": 114,
   "metadata": {},
   "outputs": [
    {
     "data": {
      "text/plain": [
       "0.8682277997866147"
      ]
     },
     "execution_count": 114,
     "metadata": {},
     "output_type": "execute_result"
    }
   ],
   "source": [
    "y_pred = gscv.predict_proba(X_train)[:,1]\n",
    "roc_auc_score(y_train, y_pred)"
   ]
  },
  {
   "cell_type": "markdown",
   "metadata": {},
   "source": [
    "## Selecionando o melhor corte"
   ]
  },
  {
   "cell_type": "code",
   "execution_count": 125,
   "metadata": {},
   "outputs": [],
   "source": [
    "def predict_probability(X, model):\n",
    "    return model.predict_proba(X)[:,1]\n",
    "\n",
    "def make_result_df(y,y_pred):\n",
    "    df = y.reset_index()\n",
    "    df[\"prob\"] = y_pred\n",
    "    df[\"pred\"] = y_pred\n",
    "    return df\n",
    "\n",
    "def predict_class(y, c):\n",
    "    y[\"pred\"] = y[\"prob\"].apply(lambda x: 1 if x >= c else 0)\n",
    "    return y\n",
    "\n",
    "def evaluate(df, c):\n",
    "    tn, fp, fn, tp = confusion_matrix(\n",
    "        df[\"TARGET\"],\n",
    "        predict_class(df, c)[\"pred\"],\n",
    "    ).ravel()\n",
    "    return (tn*0+fp*(-10)+fn*0+tp*(100-10))/len(df)"
   ]
  },
  {
   "cell_type": "code",
   "execution_count": 126,
   "metadata": {},
   "outputs": [],
   "source": [
    "def select_threshold(X, y):\n",
    "    y_pred = predict_probability(X, gscv)\n",
    "    df = make_result_df(y,y_pred)\n",
    "\n",
    "    thresh_scores = [[i/100, 0] for i in range(101)]\n",
    "\n",
    "    for i in range(len(thresh_scores)):\n",
    "        c = thresh_scores[i][0]\n",
    "        thresh_scores[i][1] = evaluate(df,c)\n",
    "\n",
    "    thresh_scores = pd.DataFrame(thresh_scores,columns=[\"Threshold\", \"Profit\"])\n",
    "\n",
    "    best_threshold = thresh_scores.iloc[\n",
    "        thresh_scores.Profit.idxmax()\n",
    "    ].Threshold\n",
    "\n",
    "    return best_threshold"
   ]
  },
  {
   "cell_type": "code",
   "execution_count": 127,
   "metadata": {},
   "outputs": [],
   "source": [
    "c = select_threshold(X_train, y_train)"
   ]
  },
  {
   "cell_type": "markdown",
   "metadata": {},
   "source": [
    "## Avaliação no conjunto de testes"
   ]
  },
  {
   "cell_type": "code",
   "execution_count": 131,
   "metadata": {},
   "outputs": [
    {
     "name": "stdout",
     "output_type": "stream",
     "text": [
      "Lucro esperado: R$1.03 por cliente da base\n"
     ]
    }
   ],
   "source": [
    "y_pred = predict_probability(X_test, gscv)\n",
    "pred_df = make_result_df(y_test, y_pred)\n",
    "profit = evaluate(pred_df,c)\n",
    "print(f\"Lucro esperado: R${profit:.2f} por cliente da base\")"
   ]
  },
  {
   "cell_type": "markdown",
   "metadata": {},
   "source": [
    "## Clusters"
   ]
  },
  {
   "cell_type": "code",
   "execution_count": 158,
   "metadata": {},
   "outputs": [],
   "source": [
    "X_clust = X_test \\\n",
    "    .merge(y_test.reset_index(),how=\"left\",on=\"ID\") \\\n",
    "    .merge(pred_df[[\"ID\",\"pred\"]],how=\"left\",on=\"ID\")"
   ]
  },
  {
   "cell_type": "code",
   "execution_count": 159,
   "metadata": {},
   "outputs": [],
   "source": [
    "def profit_individual(true,pred):\n",
    "    profit = 0\n",
    "    if pred == 1:\n",
    "        profit += -10\n",
    "        if true == 1:\n",
    "            profit += 100\n",
    "    return profit\n",
    "\n",
    "X_clust[\"profit\"] = np.vectorize(profit_individual)(X_clust[\"TARGET\"], X_clust[\"pred\"])"
   ]
  },
  {
   "cell_type": "code",
   "execution_count": 160,
   "metadata": {},
   "outputs": [],
   "source": [
    "X_clust = X_clust.set_index(\"ID\")"
   ]
  },
  {
   "cell_type": "code",
   "execution_count": 190,
   "metadata": {},
   "outputs": [],
   "source": [
    "y_clust = X_clust[[\"TARGET\", \"pred\", \"profit\"]]\n",
    "X_clust = X_clust.drop([\"TARGET\", \"pred\", \"profit\"],axis=1)\n"
   ]
  },
  {
   "cell_type": "code",
   "execution_count": 191,
   "metadata": {},
   "outputs": [],
   "source": [
    "sse = []\n",
    "k_values = list(range(1,30))\n",
    "\n",
    "for i in k_values:\n",
    "    cluster_pipeline = Pipeline(\n",
    "        steps=[\n",
    "            (\"col_drop\", ColumnDropper(drop_cols)),\n",
    "            (\"standard_scaler\", StandardScaler()),\n",
    "            (\"PCA\", PCA()),\n",
    "            (\n",
    "                \"KMeans\",\n",
    "                KMeans(\n",
    "                    n_clusters=i,\n",
    "                    init=\"k-means++\",\n",
    "                    n_init=10\n",
    "                )\n",
    "            )\n",
    "        ]\n",
    "    )\n",
    "    km = cluster_pipeline.fit(X_clust)\n",
    "    sse.append(km[\"KMeans\"].inertia_)"
   ]
  },
  {
   "cell_type": "code",
   "execution_count": 192,
   "metadata": {},
   "outputs": [
    {
     "data": {
      "image/png": "[encoded data removed]",
      "text/plain": [
       "<Figure size 1000x700 with 1 Axes>"
      ]
     },
     "metadata": {},
     "output_type": "display_data"
    }
   ],
   "source": [
    "plt.figure(figsize=(10, 7))\n",
    "plt.plot(k_values, sse, '-o')\n",
    "plt.xlabel('Number of clusters (k)')\n",
    "plt.ylabel('Sum of Squared Error (SSE)')\n",
    "plt.title('Elbow Method For Optimal k')\n",
    "plt.show()"
   ]
  },
  {
   "cell_type": "code",
   "execution_count": 193,
   "metadata": {},
   "outputs": [],
   "source": [
    "N_CLUSTERS = 17"
   ]
  },
  {
   "cell_type": "code",
   "execution_count": 194,
   "metadata": {},
   "outputs": [],
   "source": [
    "cluster_pipeline = Pipeline(\n",
    "    steps=[\n",
    "        (\"col_drop\", ColumnDropper(drop_cols)),\n",
    "        (\"standard_scaler\", StandardScaler()),\n",
    "        (\"PCA\", PCA()),\n",
    "        (\n",
    "            \"KMeans\",\n",
    "            KMeans(\n",
    "                n_clusters=N_CLUSTERS,\n",
    "                init=\"k-means++\",\n",
    "                n_init=10\n",
    "            )\n",
    "        )\n",
    "    ]\n",
    ")"
   ]
  },
  {
   "cell_type": "code",
   "execution_count": 199,
   "metadata": {},
   "outputs": [],
   "source": [
    "cluster = cluster_pipeline.fit_predict(X_clust)"
   ]
  },
  {
   "cell_type": "code",
   "execution_count": 200,
   "metadata": {},
   "outputs": [],
   "source": [
    "cluster_analysis = X_clust.merge(y_clust,how=\"left\",on=\"ID\")\n",
    "cluster_analysis[\"cluster\"] = cluster"
   ]
  },
  {
   "cell_type": "code",
   "execution_count": 204,
   "metadata": {},
   "outputs": [
    {
     "data": {
      "text/html": [
       "<div>\n",
       "<style scoped>\n",
       "    .dataframe tbody tr th:only-of-type {\n",
       "        vertical-align: middle;\n",
       "    }\n",
       "\n",
       "    .dataframe tbody tr th {\n",
       "        vertical-align: top;\n",
       "    }\n",
       "\n",
       "    .dataframe thead th {\n",
       "        text-align: right;\n",
       "    }\n",
       "</style>\n",
       "<table border=\"1\" class=\"dataframe\">\n",
       "  <thead>\n",
       "    <tr style=\"text-align: right;\">\n",
       "      <th></th>\n",
       "      <th>profit</th>\n",
       "    </tr>\n",
       "    <tr>\n",
       "      <th>cluster</th>\n",
       "      <th></th>\n",
       "    </tr>\n",
       "  </thead>\n",
       "  <tbody>\n",
       "    <tr>\n",
       "      <th>15</th>\n",
       "      <td>3.299265</td>\n",
       "    </tr>\n",
       "    <tr>\n",
       "      <th>14</th>\n",
       "      <td>3.088235</td>\n",
       "    </tr>\n",
       "    <tr>\n",
       "      <th>9</th>\n",
       "      <td>1.967213</td>\n",
       "    </tr>\n",
       "    <tr>\n",
       "      <th>12</th>\n",
       "      <td>1.696429</td>\n",
       "    </tr>\n",
       "    <tr>\n",
       "      <th>4</th>\n",
       "      <td>1.105651</td>\n",
       "    </tr>\n",
       "    <tr>\n",
       "      <th>5</th>\n",
       "      <td>0.751366</td>\n",
       "    </tr>\n",
       "    <tr>\n",
       "      <th>0</th>\n",
       "      <td>0.025381</td>\n",
       "    </tr>\n",
       "    <tr>\n",
       "      <th>10</th>\n",
       "      <td>0.000000</td>\n",
       "    </tr>\n",
       "    <tr>\n",
       "      <th>8</th>\n",
       "      <td>0.000000</td>\n",
       "    </tr>\n",
       "    <tr>\n",
       "      <th>1</th>\n",
       "      <td>0.000000</td>\n",
       "    </tr>\n",
       "    <tr>\n",
       "      <th>7</th>\n",
       "      <td>0.000000</td>\n",
       "    </tr>\n",
       "    <tr>\n",
       "      <th>6</th>\n",
       "      <td>0.000000</td>\n",
       "    </tr>\n",
       "    <tr>\n",
       "      <th>16</th>\n",
       "      <td>0.000000</td>\n",
       "    </tr>\n",
       "    <tr>\n",
       "      <th>3</th>\n",
       "      <td>-0.049100</td>\n",
       "    </tr>\n",
       "    <tr>\n",
       "      <th>11</th>\n",
       "      <td>-0.076923</td>\n",
       "    </tr>\n",
       "    <tr>\n",
       "      <th>13</th>\n",
       "      <td>-2.352941</td>\n",
       "    </tr>\n",
       "    <tr>\n",
       "      <th>2</th>\n",
       "      <td>-10.000000</td>\n",
       "    </tr>\n",
       "  </tbody>\n",
       "</table>\n",
       "</div>"
      ],
      "text/plain": [
       "            profit\n",
       "cluster           \n",
       "15        3.299265\n",
       "14        3.088235\n",
       "9         1.967213\n",
       "12        1.696429\n",
       "4         1.105651\n",
       "5         0.751366\n",
       "0         0.025381\n",
       "10        0.000000\n",
       "8         0.000000\n",
       "1         0.000000\n",
       "7         0.000000\n",
       "6         0.000000\n",
       "16        0.000000\n",
       "3        -0.049100\n",
       "11       -0.076923\n",
       "13       -2.352941\n",
       "2       -10.000000"
      ]
     },
     "execution_count": 204,
     "metadata": {},
     "output_type": "execute_result"
    }
   ],
   "source": [
    "cluster_analysis[[\"cluster\",\"profit\"]].groupby(\"cluster\").mean().sort_values(by=\"profit\", ascending=False)"
   ]
  }
 ],
 "metadata": {
  "kernelspec": {
   "display_name": "dmc-venv",
   "language": "python",
   "name": "python3"
  },
  "language_info": {
   "codemirror_mode": {
    "name": "ipython",
    "version": 3
   },
   "file_extension": ".py",
   "mimetype": "text/x-python",
   "name": "python",
   "nbconvert_exporter": "python",
   "pygments_lexer": "ipython3",
   "version": "3.10.6"
  },
  "orig_nbformat": 4
 },
 "nbformat": 4,
 "nbformat_minor": 2
}
